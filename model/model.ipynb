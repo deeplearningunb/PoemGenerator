{
 "cells": [
  {
   "cell_type": "code",
   "execution_count": 91,
   "metadata": {},
   "outputs": [],
   "source": [
    "#!pip install fastai\n",
    "import pandas as pd\n",
    "import tensorflow as tf\n",
    "import re\n",
    "\n",
    "from tensorflow.keras.preprocessing.sequence import pad_sequences\n",
    "from tensorflow.keras.layers import Embedding, LSTM, Dense, Bidirectional\n",
    "from tensorflow.keras.preprocessing.text import Tokenizer\n",
    "from tensorflow.keras.models import Sequential\n",
    "from tensorflow.keras.optimizers import Adam\n",
    "from tensorflow.keras.callbacks import EarlyStopping\n",
    "import numpy as np"
   ]
  },
  {
   "cell_type": "code",
   "execution_count": 92,
   "metadata": {},
   "outputs": [],
   "source": [
    "df = pd.read_csv('../data/authors_poems_without_titles.csv')\n",
    "df['Poems'] = df['Poems'].str.replace('\\r', '')"
   ]
  },
  {
   "cell_type": "code",
   "execution_count": 76,
   "metadata": {},
   "outputs": [],
   "source": [
    "def line_length(lines) :\n",
    "    return max([len(x.split(' ')) for x in lines])"
   ]
  },
  {
   "cell_type": "code",
   "execution_count": 77,
   "metadata": {},
   "outputs": [],
   "source": [
    "max_poem_size = df['Poems'].str.split('\\n').map(line_length)\n",
    "df_mod = df[max_poem_size <= 25]"
   ]
  },
  {
   "cell_type": "code",
   "execution_count": 78,
   "metadata": {},
   "outputs": [],
   "source": [
    "poems = df_mod['Poems'].str.cat(sep='\\n')\n",
    "poems = poems.replace('\\r', '')\n",
    "poems = poems.replace('\\n\\n', '\\n')\n",
    "poems = poems.replace(',', '')\n",
    "poems = poems.replace('.', '')\n",
    "poems = poems.lower()\n",
    "#print(repr(poems))\n",
    "#print(poems)"
   ]
  },
  {
   "cell_type": "code",
   "execution_count": null,
   "metadata": {},
   "outputs": [],
   "source": [
    "tokenizer = Tokenizer()\n",
    "corpus = poems.lower().split(\"\\n\")\n",
    "\n",
    "tokenizer.fit_on_texts(corpus)\n",
    "total_words = len(tokenizer.word_index) + 1\n",
    "\n",
    "print(tokenizer.word_index)\n",
    "print(total_words)"
   ]
  },
  {
   "cell_type": "code",
   "execution_count": 81,
   "metadata": {},
   "outputs": [],
   "source": [
    "input_sequences = []\n",
    "for line in corpus:\n",
    "\ttoken_list = tokenizer.texts_to_sequences([line])[0]\n",
    "\tfor i in range(1, len(token_list)):\n",
    "\t\tn_gram_sequence = token_list[:i+1]\n",
    "\t\tinput_sequences.append(n_gram_sequence)\n",
    "\n",
    "# pad sequences \n",
    "max_sequence_len = max([len(x) for x in input_sequences])\n",
    "input_sequences = np.array(pad_sequences(input_sequences, maxlen=max_sequence_len, padding='pre'))\n",
    "\n",
    "# create predictors and label\n",
    "xs, labels = input_sequences[:,:-1],input_sequences[:,-1]\n",
    "\n",
    "ys = tf.keras.utils.to_categorical(labels, num_classes=total_words)"
   ]
  },
  {
   "cell_type": "code",
   "execution_count": 85,
   "metadata": {},
   "outputs": [
    {
     "name": "stdout",
     "output_type": "stream",
     "text": [
      "2126\n",
      "3385\n",
      "3675\n",
      "3693\n",
      "3684\n"
     ]
    }
   ],
   "source": [
    "print(tokenizer.word_index['firmamento'])\n",
    "print(tokenizer.word_index['secas'])\n",
    "print(tokenizer.word_index['fantasma'])\n",
    "print(tokenizer.word_index['estrepar'])\n",
    "print(tokenizer.word_index['afogado'])"
   ]
  },
  {
   "cell_type": "code",
   "execution_count": 86,
   "metadata": {},
   "outputs": [
    {
     "name": "stdout",
     "output_type": "stream",
     "text": [
      "[0 0 0 0 0 0 0 0 0 0 0 0 0 0 0 0 0 0 0 0 0 0 0 0 0 1]\n"
     ]
    }
   ],
   "source": [
    "print(xs[6])"
   ]
  },
  {
   "cell_type": "code",
   "execution_count": 87,
   "metadata": {},
   "outputs": [
    {
     "name": "stdout",
     "output_type": "stream",
     "text": [
      "[   0    0    0    0    0    0    0    0    0    0    0    0    0    0\n",
      "    0    0    0    0    0    0    0    0    0    0 1293   51]\n",
      "[0. 0. 0. ... 0. 0. 0.]\n"
     ]
    }
   ],
   "source": [
    "print(xs[5])\n",
    "print(ys[5])"
   ]
  },
  {
   "cell_type": "code",
   "execution_count": null,
   "metadata": {},
   "outputs": [],
   "source": [
    "print(tokenizer.word_index)"
   ]
  },
  {
   "cell_type": "code",
   "execution_count": 89,
   "metadata": {},
   "outputs": [
    {
     "name": "stdout",
     "output_type": "stream",
     "text": [
      "(47923, 26)\n",
      "(47923, 9233)\n"
     ]
    }
   ],
   "source": [
    "print(xs.shape)\n",
    "print(ys.shape)"
   ]
  },
  {
   "cell_type": "code",
   "execution_count": 93,
   "metadata": {},
   "outputs": [
    {
     "name": "stdout",
     "output_type": "stream",
     "text": [
      "Epoch 1/100\n",
      "1498/1498 [==============================] - 94s 61ms/step - loss: 7.0499 - accuracy: 0.0604\n",
      "Epoch 2/100\n",
      "1498/1498 [==============================] - 105s 70ms/step - loss: 6.1102 - accuracy: 0.0990\n",
      "Epoch 3/100\n",
      "1498/1498 [==============================] - 101s 68ms/step - loss: 5.3477 - accuracy: 0.1250\n",
      "Epoch 4/100\n",
      "1498/1498 [==============================] - 97s 64ms/step - loss: 4.6328 - accuracy: 0.1637\n",
      "Epoch 5/100\n",
      "1498/1498 [==============================] - 92s 61ms/step - loss: 4.0847 - accuracy: 0.2081\n",
      "Epoch 6/100\n",
      "1498/1498 [==============================] - 109s 73ms/step - loss: 3.7101 - accuracy: 0.2488\n",
      "Epoch 7/100\n",
      "1498/1498 [==============================] - 99s 66ms/step - loss: 3.5177 - accuracy: 0.2731\n",
      "Epoch 8/100\n",
      "1498/1498 [==============================] - 112s 75ms/step - loss: 3.2965 - accuracy: 0.3002\n",
      "Epoch 9/100\n",
      "1498/1498 [==============================] - 100s 67ms/step - loss: 3.1451 - accuracy: 0.3191\n",
      "Epoch 10/100\n",
      "1498/1498 [==============================] - 96s 64ms/step - loss: 3.0399 - accuracy: 0.3356\n",
      "Epoch 11/100\n",
      "1498/1498 [==============================] - 99s 66ms/step - loss: 2.9903 - accuracy: 0.3458\n",
      "Epoch 12/100\n",
      "1498/1498 [==============================] - 87s 58ms/step - loss: 2.8928 - accuracy: 0.3594\n",
      "Epoch 13/100\n",
      "1498/1498 [==============================] - 98s 65ms/step - loss: 2.8558 - accuracy: 0.3654\n",
      "Epoch 14/100\n",
      "1498/1498 [==============================] - 97s 65ms/step - loss: 2.7910 - accuracy: 0.3778\n",
      "Epoch 15/100\n",
      "1498/1498 [==============================] - 96s 64ms/step - loss: 2.7585 - accuracy: 0.3819\n",
      "Epoch 16/100\n",
      "1498/1498 [==============================] - 96s 64ms/step - loss: 2.7646 - accuracy: 0.3824\n",
      "Epoch 17/100\n",
      "1498/1498 [==============================] - 96s 64ms/step - loss: 2.7196 - accuracy: 0.3913\n",
      "Epoch 18/100\n",
      "1498/1498 [==============================] - 97s 65ms/step - loss: 2.6941 - accuracy: 0.3947\n",
      "Epoch 19/100\n",
      "1498/1498 [==============================] - 96s 64ms/step - loss: 2.7314 - accuracy: 0.3910\n",
      "Epoch 20/100\n",
      "1498/1498 [==============================] - 102s 68ms/step - loss: 2.6912 - accuracy: 0.3946\n",
      "Epoch 21/100\n",
      "1498/1498 [==============================] - 96s 64ms/step - loss: 2.6652 - accuracy: 0.3997\n",
      "Epoch 22/100\n",
      "1498/1498 [==============================] - 97s 65ms/step - loss: 2.7001 - accuracy: 0.3972\n",
      "Epoch 23/100\n",
      "1498/1498 [==============================] - 95s 64ms/step - loss: 2.6438 - accuracy: 0.4055\n",
      "Epoch 24/100\n",
      "1498/1498 [==============================] - 96s 64ms/step - loss: 2.6253 - accuracy: 0.4091\n",
      "Epoch 25/100\n",
      "1498/1498 [==============================] - 97s 65ms/step - loss: 2.6564 - accuracy: 0.4057\n",
      "Epoch 26/100\n",
      "1498/1498 [==============================] - 98s 65ms/step - loss: 2.6113 - accuracy: 0.4129\n",
      "Epoch 27/100\n",
      "1498/1498 [==============================] - 97s 65ms/step - loss: 2.6188 - accuracy: 0.4133\n",
      "Epoch 28/100\n",
      "1498/1498 [==============================] - 98s 65ms/step - loss: 2.5922 - accuracy: 0.4178\n",
      "Epoch 29/100\n",
      "1498/1498 [==============================] - 98s 65ms/step - loss: 2.5993 - accuracy: 0.4155\n",
      "Epoch 30/100\n",
      "1498/1498 [==============================] - 93s 62ms/step - loss: 2.6322 - accuracy: 0.4110\n",
      "Epoch 31/100\n",
      "1498/1498 [==============================] - 90s 60ms/step - loss: 2.6050 - accuracy: 0.4150\n",
      "Epoch 32/100\n",
      "1498/1498 [==============================] - 95s 64ms/step - loss: 2.5960 - accuracy: 0.4181\n",
      "Epoch 33/100\n",
      "1498/1498 [==============================] - 99s 66ms/step - loss: 2.6389 - accuracy: 0.4089\n",
      "Epoch 34/100\n",
      "1498/1498 [==============================] - 88s 58ms/step - loss: 2.6088 - accuracy: 0.4143\n",
      "Epoch 35/100\n",
      "1498/1498 [==============================] - 84s 56ms/step - loss: 2.5986 - accuracy: 0.4162\n",
      "Epoch 36/100\n",
      "1498/1498 [==============================] - 85s 57ms/step - loss: 2.5701 - accuracy: 0.4215\n",
      "Epoch 37/100\n",
      "1498/1498 [==============================] - 86s 57ms/step - loss: 2.5859 - accuracy: 0.4190\n",
      "Epoch 38/100\n",
      "1498/1498 [==============================] - 86s 57ms/step - loss: 2.6084 - accuracy: 0.4162\n",
      "Epoch 39/100\n",
      "1498/1498 [==============================] - 85s 57ms/step - loss: 2.5955 - accuracy: 0.4178\n",
      "Epoch 40/100\n",
      "1498/1498 [==============================] - 88s 59ms/step - loss: 2.5719 - accuracy: 0.4238\n",
      "Epoch 41/100\n",
      "1498/1498 [==============================] - 86s 58ms/step - loss: 2.5910 - accuracy: 0.4215\n",
      "Epoch 42/100\n",
      "1498/1498 [==============================] - 87s 58ms/step - loss: 2.5796 - accuracy: 0.4244\n",
      "Epoch 43/100\n",
      "1498/1498 [==============================] - 87s 58ms/step - loss: 2.5965 - accuracy: 0.4205\n",
      "Epoch 44/100\n",
      "1498/1498 [==============================] - 86s 57ms/step - loss: 2.5809 - accuracy: 0.4220\n",
      "Epoch 45/100\n",
      "1498/1498 [==============================] - 87s 58ms/step - loss: 2.5783 - accuracy: 0.4256\n",
      "Epoch 46/100\n",
      "1498/1498 [==============================] - 86s 58ms/step - loss: 2.5852 - accuracy: 0.4239\n",
      "Epoch 47/100\n",
      "1498/1498 [==============================] - 87s 58ms/step - loss: 2.5851 - accuracy: 0.4266\n",
      "Epoch 48/100\n",
      "1498/1498 [==============================] - 87s 58ms/step - loss: 2.6105 - accuracy: 0.4228\n",
      "Epoch 49/100\n",
      "1498/1498 [==============================] - 87s 58ms/step - loss: 2.5721 - accuracy: 0.4252\n",
      "Epoch 50/100\n",
      "1498/1498 [==============================] - 87s 58ms/step - loss: 2.5766 - accuracy: 0.4268\n",
      "Epoch 51/100\n",
      "1498/1498 [==============================] - 87s 58ms/step - loss: 2.5693 - accuracy: 0.4306\n",
      "Epoch 52/100\n",
      "1498/1498 [==============================] - 87s 58ms/step - loss: 2.6103 - accuracy: 0.4231\n",
      "Epoch 53/100\n",
      "1498/1498 [==============================] - 87s 58ms/step - loss: 2.5790 - accuracy: 0.4267\n",
      "Epoch 54/100\n",
      "1498/1498 [==============================] - 87s 58ms/step - loss: 2.5785 - accuracy: 0.4261\n",
      "Epoch 55/100\n",
      "1498/1498 [==============================] - 87s 58ms/step - loss: 2.5561 - accuracy: 0.4300\n",
      "Epoch 56/100\n",
      "1498/1498 [==============================] - 87s 58ms/step - loss: 2.5545 - accuracy: 0.4303\n",
      "Epoch 57/100\n",
      "1498/1498 [==============================] - 86s 58ms/step - loss: 2.5904 - accuracy: 0.4265\n",
      "Epoch 58/100\n",
      "1498/1498 [==============================] - 86s 58ms/step - loss: 2.5835 - accuracy: 0.4276\n",
      "Epoch 59/100\n",
      "1498/1498 [==============================] - 88s 59ms/step - loss: 2.5751 - accuracy: 0.4278\n",
      "Epoch 60/100\n",
      "1498/1498 [==============================] - 104s 69ms/step - loss: 2.6143 - accuracy: 0.4238\n",
      "Epoch 61/100\n",
      "1498/1498 [==============================] - 102s 68ms/step - loss: 2.6146 - accuracy: 0.4234\n",
      "Epoch 62/100\n",
      "1498/1498 [==============================] - 101s 67ms/step - loss: 2.5637 - accuracy: 0.4318\n",
      "Epoch 63/100\n",
      "1498/1498 [==============================] - 102s 68ms/step - loss: 2.5578 - accuracy: 0.4339\n",
      "Epoch 64/100\n",
      "1498/1498 [==============================] - 102s 68ms/step - loss: 2.5567 - accuracy: 0.4304\n",
      "Epoch 65/100\n",
      "1498/1498 [==============================] - 102s 68ms/step - loss: 2.5589 - accuracy: 0.4338\n",
      "Epoch 66/100\n",
      "1498/1498 [==============================] - 104s 69ms/step - loss: 2.5731 - accuracy: 0.4303\n",
      "Epoch 67/100\n",
      "1498/1498 [==============================] - 102s 68ms/step - loss: 2.5770 - accuracy: 0.4314\n",
      "Epoch 68/100\n",
      "1498/1498 [==============================] - 103s 69ms/step - loss: 2.5352 - accuracy: 0.4374\n",
      "Epoch 69/100\n",
      "1498/1498 [==============================] - 104s 69ms/step - loss: 2.5408 - accuracy: 0.4351\n",
      "Epoch 70/100\n",
      "1498/1498 [==============================] - 104s 70ms/step - loss: 2.5530 - accuracy: 0.4356\n",
      "Epoch 71/100\n",
      "1498/1498 [==============================] - 105s 70ms/step - loss: 2.5689 - accuracy: 0.4308\n",
      "Epoch 72/100\n",
      "1498/1498 [==============================] - 88s 59ms/step - loss: 2.5693 - accuracy: 0.4333\n",
      "Epoch 73/100\n",
      "1498/1498 [==============================] - 88s 59ms/step - loss: 2.5600 - accuracy: 0.4322\n",
      "Epoch 74/100\n",
      "1498/1498 [==============================] - 88s 59ms/step - loss: 2.5900 - accuracy: 0.4309\n",
      "Epoch 75/100\n",
      "1498/1498 [==============================] - 93s 62ms/step - loss: 2.5287 - accuracy: 0.4396\n",
      "Epoch 76/100\n",
      "1498/1498 [==============================] - 100s 66ms/step - loss: 2.5152 - accuracy: 0.4407\n",
      "Epoch 77/100\n",
      "1498/1498 [==============================] - 108s 72ms/step - loss: 2.5434 - accuracy: 0.4372\n",
      "Epoch 78/100\n",
      "1498/1498 [==============================] - 103s 69ms/step - loss: 2.5321 - accuracy: 0.4377\n",
      "Epoch 79/100\n",
      "1498/1498 [==============================] - 87s 58ms/step - loss: 2.5621 - accuracy: 0.4394\n",
      "Epoch 80/100\n",
      "1498/1498 [==============================] - 82s 55ms/step - loss: 2.5878 - accuracy: 0.4339\n",
      "Epoch 81/100\n",
      "1498/1498 [==============================] - 89s 59ms/step - loss: 2.5820 - accuracy: 0.4333\n",
      "Epoch 82/100\n",
      "1498/1498 [==============================] - 113s 76ms/step - loss: 2.5610 - accuracy: 0.4353\n",
      "Epoch 83/100\n",
      "1498/1498 [==============================] - 102s 68ms/step - loss: 2.5795 - accuracy: 0.4368\n",
      "Epoch 84/100\n",
      "1498/1498 [==============================] - 107s 71ms/step - loss: 2.5435 - accuracy: 0.4394\n",
      "Epoch 85/100\n",
      "1498/1498 [==============================] - 108s 72ms/step - loss: 2.6908 - accuracy: 0.4250\n",
      "Epoch 86/100\n",
      "1498/1498 [==============================] - 101s 67ms/step - loss: 2.6011 - accuracy: 0.4326\n",
      "Epoch 87/100\n",
      "1498/1498 [==============================] - 109s 73ms/step - loss: 2.7095 - accuracy: 0.4236\n",
      "Epoch 88/100\n",
      "1498/1498 [==============================] - 106s 70ms/step - loss: 2.6926 - accuracy: 0.4224\n",
      "Epoch 89/100\n",
      "1498/1498 [==============================] - 91s 61ms/step - loss: 2.6376 - accuracy: 0.4298\n",
      "Epoch 90/100\n",
      "1498/1498 [==============================] - 109s 73ms/step - loss: 2.6444 - accuracy: 0.4302\n",
      "Epoch 91/100\n",
      "1498/1498 [==============================] - 88s 59ms/step - loss: 2.6812 - accuracy: 0.4256\n",
      "Epoch 92/100\n",
      "1498/1498 [==============================] - 104s 69ms/step - loss: 2.6287 - accuracy: 0.4295\n",
      "Epoch 93/100\n",
      "1498/1498 [==============================] - 102s 68ms/step - loss: 2.6010 - accuracy: 0.4337\n",
      "Epoch 94/100\n",
      "1498/1498 [==============================] - 101s 68ms/step - loss: 2.6038 - accuracy: 0.4332\n",
      "Epoch 95/100\n",
      "1498/1498 [==============================] - 104s 69ms/step - loss: 2.6053 - accuracy: 0.4376\n",
      "Epoch 96/100\n",
      "1498/1498 [==============================] - 117s 78ms/step - loss: 2.5940 - accuracy: 0.4369\n",
      "Epoch 97/100\n",
      "1498/1498 [==============================] - 83s 55ms/step - loss: 2.6368 - accuracy: 0.4362\n",
      "Epoch 98/100\n",
      "1498/1498 [==============================] - 93s 62ms/step - loss: 2.6795 - accuracy: 0.4301\n",
      "Epoch 99/100\n",
      "1498/1498 [==============================] - 103s 69ms/step - loss: 2.6577 - accuracy: 0.4322\n",
      "Epoch 100/100\n",
      "1498/1498 [==============================] - 103s 69ms/step - loss: 2.6345 - accuracy: 0.4332\n",
      "<keras.engine.sequential.Sequential object at 0x0000018D87AD9970>\n"
     ]
    }
   ],
   "source": [
    "model = Sequential()\n",
    "model.add(Embedding(total_words, 100, input_length=max_sequence_len-1))\n",
    "model.add(Bidirectional(LSTM(150)))\n",
    "model.add(Dense(total_words, activation='softmax'))\n",
    "adam = Adam(learning_rate=0.01)\n",
    "model.compile(loss='categorical_crossentropy', optimizer=adam, metrics=['accuracy'])\n",
    "earlystop = EarlyStopping(monitor='val_loss', min_delta=0, patience=5, verbose=0, mode='auto')\n",
    "history = model.fit(xs, ys, epochs=100, verbose=1)\n",
    "#print model.summary()\n",
    "print(model)"
   ]
  },
  {
   "cell_type": "code",
   "execution_count": 94,
   "metadata": {},
   "outputs": [
    {
     "name": "stderr",
     "output_type": "stream",
     "text": [
      "WARNING:absl:Found untraced functions such as lstm_cell_25_layer_call_fn, lstm_cell_25_layer_call_and_return_conditional_losses, lstm_cell_26_layer_call_fn, lstm_cell_26_layer_call_and_return_conditional_losses, lstm_cell_25_layer_call_fn while saving (showing 5 of 10). These functions will not be directly callable after loading.\n"
     ]
    },
    {
     "name": "stdout",
     "output_type": "stream",
     "text": [
      "INFO:tensorflow:Assets written to: model1\\assets\n"
     ]
    },
    {
     "name": "stderr",
     "output_type": "stream",
     "text": [
      "INFO:tensorflow:Assets written to: model1\\assets\n"
     ]
    }
   ],
   "source": [
    "model.save('trained_model')\n",
    "model.save('modelHDF5', save_format='h5')"
   ]
  },
  {
   "cell_type": "code",
   "execution_count": 95,
   "metadata": {},
   "outputs": [],
   "source": [
    "import matplotlib.pyplot as plt\n",
    "\n",
    "\n",
    "def plot_graphs(history, string):\n",
    "  plt.plot(history.history[string])\n",
    "  plt.xlabel(\"Epochs\")\n",
    "  plt.ylabel(string)\n",
    "  plt.show()"
   ]
  },
  {
   "cell_type": "code",
   "execution_count": 96,
   "metadata": {},
   "outputs": [
    {
     "data": {
      "image/png": "[encoded data removed]",
      "text/plain": [
       "<Figure size 432x288 with 1 Axes>"
      ]
     },
     "metadata": {
      "needs_background": "light"
     },
     "output_type": "display_data"
    }
   ],
   "source": [
    "plot_graphs(history, 'accuracy')"
   ]
  },
  {
   "cell_type": "code",
   "execution_count": 107,
   "metadata": {},
   "outputs": [
    {
     "name": "stdout",
     "output_type": "stream",
     "text": [
      "Irmão, você tem que vir comigo mesmo sem chegar mais fez feliz\n",
      " enganando a consciência nem\n",
      " fala mais que perfeito\n",
      " palavras tortas é o\n",
      " caminho da\n",
      " lança sé\n",
      " desfolhas estejam no comando qualquer homenagem ao celeste sentar andor\n",
      " era hora\n",
      " do recomeço qualquer\n",
      " tentação\n",
      " ou endereço\n",
      " de mais\n",
      " ou sorteeu\n",
      " chamo mais ajudada guerra dos\n",
      " ou se\n",
      " pro infernais sentar andor duendes permanente guerra lhe bastasse galinhas\n",
      " ou menos\n",
      " sábios\n",
      " ou se resume\n",
      " ou\n",
      " ou\n",
      " do fundo\n",
      " ou dourada ouvido teia real\n",
      " ou sobre no céu monumento vingar\n",
      " faça mais relicário distante e\n",
      " ou\n",
      " ou\n",
      " infiel vem trazer para\n",
      " ou\n",
      " ou sobre oca\n",
      " asneira\n"
     ]
    }
   ],
   "source": [
    "seed_text = \"Irmão, você tem que\"\n",
    "next_words = 100\n",
    "  \n",
    "for _ in range(next_words):\n",
    "    token_list = tokenizer.texts_to_sequences([seed_text])[0]\n",
    "    token_list = pad_sequences([token_list], maxlen=max_sequence_len-1, padding='pre')\n",
    "    predicted = model.predict(token_list, verbose=0)\n",
    "    predicted_index = np.argmax(predicted, axis=1)[0]\n",
    "    output_word = \"\"\n",
    "    for word, index in tokenizer.word_index.items():\n",
    "        if index == predicted_index:\n",
    "            output_word = word\n",
    "            if index % 5 == 0:\n",
    "                seed_text += \"\\n\"\n",
    "            break\n",
    "    seed_text += \" \" + output_word\n",
    "print(seed_text)"
   ]
  }
 ],
 "metadata": {
  "interpreter": {
   "hash": "f207fd70f9fbf0576c013b5478e6433bf21bddade4b54cedc324eb219afc4cf7"
  },
  "kernelspec": {
   "display_name": "Python 3.9.6 64-bit (system)",
   "name": "python3"
  },
  "language_info": {
   "codemirror_mode": {
    "name": "ipython",
    "version": 3
   },
   "file_extension": ".py",
   "mimetype": "text/x-python",
   "name": "python",
   "nbconvert_exporter": "python",
   "pygments_lexer": "ipython3",
   "version": "3.9.6"
  },
  "orig_nbformat": 4
 },
 "nbformat": 4,
 "nbformat_minor": 2
}
