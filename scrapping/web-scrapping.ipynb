{
 "cells": [
  {
   "cell_type": "markdown",
   "source": [
    "Importamos o requests e o bs4 para fazer um requisição HTTP \"get\" do site e depois fazemos o scrapping do site pegando o conteúdo de interesse"
   ],
   "metadata": {}
  },
  {
   "cell_type": "code",
   "execution_count": 7,
   "source": [
    "import requests\r\n",
    "from bs4 import BeautifulSoup\r\n",
    "import re\r\n",
    "import pandas as pd\r\n",
    "import numpy as np"
   ],
   "outputs": [],
   "metadata": {}
  },
  {
   "cell_type": "markdown",
   "source": [
    "## Acessando os poemas e autores da página"
   ],
   "metadata": {}
  },
  {
   "cell_type": "code",
   "execution_count": 8,
   "source": [
    "def get_poems_authors(url):\r\n",
    "    r = requests.get(url)\r\n",
    "    print(f\"The url: {url} status code it's {r.status_code}\")\r\n",
    "\r\n",
    "    html_doc = r.text\r\n",
    "    soup = BeautifulSoup(html_doc)\r\n",
    "\r\n",
    "    authors = []\r\n",
    "    poems = []\r\n",
    "\r\n",
    "    for span in soup.find_all(\"span\", class_=\"autor\"):\r\n",
    "        author = span.text\r\n",
    "        authors.append(author)\r\n",
    "\r\n",
    "    for span in soup.find_all(\"p\", class_=re.compile(r\"frase\\s.*\")):\r\n",
    "        poem = span.text\r\n",
    "        poems.append(poem)\r\n",
    "\r\n",
    "    current_page = soup.find(\"span\", class_=\"atual\")\r\n",
    "    next_page = current_page.find_next(\"a\")\r\n",
    "    \r\n",
    "    href_next_page = next_page['href']\r\n",
    "\r\n",
    "    if 'poemas' not in href_next_page:\r\n",
    "        href_next_page = False\r\n",
    "\r\n",
    "    urls = [url]*len(authors)\r\n",
    "\r\n",
    "    return href_next_page,authors,poems,urls"
   ],
   "outputs": [],
   "metadata": {}
  },
  {
   "cell_type": "markdown",
   "source": [
    "Em razão da paginação do site, temos que buscar qual seria a próxima página, retornando o href como parâmetro na função acima e fazendo o scrpping da nova página"
   ],
   "metadata": {}
  },
  {
   "cell_type": "markdown",
   "source": [
    "## Criando um dataset que possui o autor e o seu poema"
   ],
   "metadata": {}
  },
  {
   "cell_type": "code",
   "execution_count": 12,
   "source": [
    "main_page = \"https://www.pensador.com\"\r\n",
    "poem_page = \"https://www.pensador.com/poemas/\"\r\n",
    "href_exists = True\r\n",
    "\r\n",
    "urls = []\r\n",
    "authors = []\r\n",
    "poems = []\r\n",
    "\r\n",
    "while href_exists:\r\n",
    "    href,author,poem,url = get_poems_authors(poem_page)\r\n",
    "\r\n",
    "    href_exists = True if href else False\r\n",
    "    \r\n",
    "    if not href_exists:\r\n",
    "        break\r\n",
    "    \r\n",
    "    poem_page = main_page+href\r\n",
    "    urls.append(url)\r\n",
    "    authors.append(author)\r\n",
    "    poems.append(poem)"
   ],
   "outputs": [
    {
     "output_type": "stream",
     "name": "stdout",
     "text": [
      "The url: https://www.pensador.com/poemas/ status code it's 200\n",
      "The url: https://www.pensador.com/poemas/2/ status code it's 200\n",
      "The url: https://www.pensador.com/poemas/3/ status code it's 200\n",
      "The url: https://www.pensador.com/poemas/4/ status code it's 200\n",
      "The url: https://www.pensador.com/poemas/5/ status code it's 200\n",
      "The url: https://www.pensador.com/poemas/6/ status code it's 200\n",
      "The url: https://www.pensador.com/poemas/7/ status code it's 200\n",
      "The url: https://www.pensador.com/poemas/8/ status code it's 200\n",
      "The url: https://www.pensador.com/poemas/9/ status code it's 200\n",
      "The url: https://www.pensador.com/poemas/10/ status code it's 200\n",
      "The url: https://www.pensador.com/poemas/11/ status code it's 200\n",
      "The url: https://www.pensador.com/poemas/12/ status code it's 200\n",
      "The url: https://www.pensador.com/poemas/13/ status code it's 200\n",
      "The url: https://www.pensador.com/poemas/14/ status code it's 200\n",
      "The url: https://www.pensador.com/poemas/15/ status code it's 200\n",
      "The url: https://www.pensador.com/poemas/16/ status code it's 200\n",
      "The url: https://www.pensador.com/poemas/17/ status code it's 200\n",
      "The url: https://www.pensador.com/poemas/18/ status code it's 200\n",
      "The url: https://www.pensador.com/poemas/19/ status code it's 200\n",
      "The url: https://www.pensador.com/poemas/20/ status code it's 200\n",
      "The url: https://www.pensador.com/poemas/21/ status code it's 200\n",
      "The url: https://www.pensador.com/poemas/22/ status code it's 200\n",
      "The url: https://www.pensador.com/poemas/23/ status code it's 200\n",
      "The url: https://www.pensador.com/poemas/24/ status code it's 200\n",
      "The url: https://www.pensador.com/poemas/25/ status code it's 200\n",
      "The url: https://www.pensador.com/poemas/26/ status code it's 200\n",
      "The url: https://www.pensador.com/poemas/27/ status code it's 200\n",
      "The url: https://www.pensador.com/poemas/28/ status code it's 200\n",
      "The url: https://www.pensador.com/poemas/29/ status code it's 200\n",
      "The url: https://www.pensador.com/poemas/30/ status code it's 200\n",
      "The url: https://www.pensador.com/poemas/31/ status code it's 200\n",
      "The url: https://www.pensador.com/poemas/32/ status code it's 200\n",
      "The url: https://www.pensador.com/poemas/33/ status code it's 200\n",
      "The url: https://www.pensador.com/poemas/34/ status code it's 200\n",
      "The url: https://www.pensador.com/poemas/35/ status code it's 200\n",
      "The url: https://www.pensador.com/poemas/36/ status code it's 200\n",
      "The url: https://www.pensador.com/poemas/37/ status code it's 200\n",
      "The url: https://www.pensador.com/poemas/38/ status code it's 200\n",
      "The url: https://www.pensador.com/poemas/39/ status code it's 200\n",
      "The url: https://www.pensador.com/poemas/40/ status code it's 200\n",
      "The url: https://www.pensador.com/poemas/41/ status code it's 200\n",
      "The url: https://www.pensador.com/poemas/42/ status code it's 200\n",
      "The url: https://www.pensador.com/poemas/43/ status code it's 200\n",
      "The url: https://www.pensador.com/poemas/44/ status code it's 200\n",
      "The url: https://www.pensador.com/poemas/45/ status code it's 200\n",
      "The url: https://www.pensador.com/poemas/46/ status code it's 200\n",
      "The url: https://www.pensador.com/poemas/47/ status code it's 200\n"
     ]
    }
   ],
   "metadata": {}
  },
  {
   "cell_type": "code",
   "execution_count": 13,
   "source": [
    "len(authors), len(poems), len(urls)"
   ],
   "outputs": [
    {
     "output_type": "execute_result",
     "data": {
      "text/plain": [
       "(46, 46, 46)"
      ]
     },
     "metadata": {},
     "execution_count": 13
    }
   ],
   "metadata": {}
  },
  {
   "cell_type": "code",
   "execution_count": 14,
   "source": [
    "def simple_list(_list):\r\n",
    "    if isinstance(_list, list):\r\n",
    "        return [sub_elem for elem in _list for sub_elem in simple_list(elem)]\r\n",
    "    else:\r\n",
    "        return [_list]"
   ],
   "outputs": [],
   "metadata": {}
  },
  {
   "cell_type": "code",
   "execution_count": 16,
   "source": [
    "len(simple_list(authors)), len(simple_list(poems)), len(simple_list(urls))"
   ],
   "outputs": [
    {
     "output_type": "execute_result",
     "data": {
      "text/plain": [
       "(920, 920, 920)"
      ]
     },
     "metadata": {},
     "execution_count": 16
    }
   ],
   "metadata": {}
  },
  {
   "cell_type": "code",
   "execution_count": 17,
   "source": [
    "authors = simple_list(authors)\r\n",
    "poems = simple_list(poems)\r\n",
    "urls = simple_list(urls)"
   ],
   "outputs": [],
   "metadata": {}
  },
  {
   "cell_type": "code",
   "execution_count": 19,
   "source": [
    "data = pd.DataFrame(list(zip(authors, poems, urls)), columns =['Authors', 'Poems', 'Page'])"
   ],
   "outputs": [],
   "metadata": {}
  },
  {
   "cell_type": "code",
   "execution_count": 25,
   "source": [
    "data['Authors'] = data['Authors'].apply(lambda st:st.replace('\\n', '')).apply(str.strip)"
   ],
   "outputs": [],
   "metadata": {}
  },
  {
   "cell_type": "code",
   "execution_count": 26,
   "source": [
    "data"
   ],
   "outputs": [
    {
     "output_type": "execute_result",
     "data": {
      "text/html": [
       "<div>\n",
       "<style scoped>\n",
       "    .dataframe tbody tr th:only-of-type {\n",
       "        vertical-align: middle;\n",
       "    }\n",
       "\n",
       "    .dataframe tbody tr th {\n",
       "        vertical-align: top;\n",
       "    }\n",
       "\n",
       "    .dataframe thead th {\n",
       "        text-align: right;\n",
       "    }\n",
       "</style>\n",
       "<table border=\"1\" class=\"dataframe\">\n",
       "  <thead>\n",
       "    <tr style=\"text-align: right;\">\n",
       "      <th></th>\n",
       "      <th>Authors</th>\n",
       "      <th>Poems</th>\n",
       "      <th>Page</th>\n",
       "    </tr>\n",
       "  </thead>\n",
       "  <tbody>\n",
       "    <tr>\n",
       "      <th>0</th>\n",
       "      <td>Fernando Pessoa</td>\n",
       "      <td>O poeta é um fingidor.\\nFinge tão completament...</td>\n",
       "      <td>https://www.pensador.com/poemas/</td>\n",
       "    </tr>\n",
       "    <tr>\n",
       "      <th>1</th>\n",
       "      <td>Fernando Pessoa</td>\n",
       "      <td>AUTOPSICOGRAFIA\\n\\nO poeta é um fingidor.\\nFin...</td>\n",
       "      <td>https://www.pensador.com/poemas/</td>\n",
       "    </tr>\n",
       "    <tr>\n",
       "      <th>2</th>\n",
       "      <td>Mario Quintana</td>\n",
       "      <td>SIMULTANEIDADE\\n\\n- Eu amo o mundo! Eu detesto...</td>\n",
       "      <td>https://www.pensador.com/poemas/</td>\n",
       "    </tr>\n",
       "    <tr>\n",
       "      <th>3</th>\n",
       "      <td>Clarice Pacheco</td>\n",
       "      <td>Caderno de poesias\\n\\nCaderno de poesias\\né um...</td>\n",
       "      <td>https://www.pensador.com/poemas/</td>\n",
       "    </tr>\n",
       "    <tr>\n",
       "      <th>4</th>\n",
       "      <td>Tom Jobim</td>\n",
       "      <td>Ah, quem me dera ser poeta\\nPra cantar em seu ...</td>\n",
       "      <td>https://www.pensador.com/poemas/</td>\n",
       "    </tr>\n",
       "    <tr>\n",
       "      <th>...</th>\n",
       "      <td>...</td>\n",
       "      <td>...</td>\n",
       "      <td>...</td>\n",
       "    </tr>\n",
       "    <tr>\n",
       "      <th>915</th>\n",
       "      <td>Álvaro de Campos</td>\n",
       "      <td>POEMA DE CANÇÃO SOBRE A ESPERANÇA\\n\\nI\\n\\nDá-m...</td>\n",
       "      <td>https://www.pensador.com/poemas/46/</td>\n",
       "    </tr>\n",
       "    <tr>\n",
       "      <th>916</th>\n",
       "      <td>Celia Piovesan</td>\n",
       "      <td>HOMENAGEM AO CADAVER DESCONHECIDO  \\nVOCÊ \\n\\n...</td>\n",
       "      <td>https://www.pensador.com/poemas/46/</td>\n",
       "    </tr>\n",
       "    <tr>\n",
       "      <th>917</th>\n",
       "      <td>Yalison Lillipuziano</td>\n",
       "      <td>OLHOS CASTANHOS\\n\\nUm brilho no seu olhar\\nQue...</td>\n",
       "      <td>https://www.pensador.com/poemas/46/</td>\n",
       "    </tr>\n",
       "    <tr>\n",
       "      <th>918</th>\n",
       "      <td>Alfredo Cuervo Barrero</td>\n",
       "      <td>É Proibido\\n\\nÉ proibido chorar sem aprender,\\...</td>\n",
       "      <td>https://www.pensador.com/poemas/46/</td>\n",
       "    </tr>\n",
       "    <tr>\n",
       "      <th>919</th>\n",
       "      <td>Nice Teixeira</td>\n",
       "      <td>Um poema para você minha amiga querida! \\nEu s...</td>\n",
       "      <td>https://www.pensador.com/poemas/46/</td>\n",
       "    </tr>\n",
       "  </tbody>\n",
       "</table>\n",
       "<p>920 rows × 3 columns</p>\n",
       "</div>"
      ],
      "text/plain": [
       "                    Authors  \\\n",
       "0           Fernando Pessoa   \n",
       "1           Fernando Pessoa   \n",
       "2            Mario Quintana   \n",
       "3           Clarice Pacheco   \n",
       "4                 Tom Jobim   \n",
       "..                      ...   \n",
       "915        Álvaro de Campos   \n",
       "916          Celia Piovesan   \n",
       "917    Yalison Lillipuziano   \n",
       "918  Alfredo Cuervo Barrero   \n",
       "919           Nice Teixeira   \n",
       "\n",
       "                                                 Poems  \\\n",
       "0    O poeta é um fingidor.\\nFinge tão completament...   \n",
       "1    AUTOPSICOGRAFIA\\n\\nO poeta é um fingidor.\\nFin...   \n",
       "2    SIMULTANEIDADE\\n\\n- Eu amo o mundo! Eu detesto...   \n",
       "3    Caderno de poesias\\n\\nCaderno de poesias\\né um...   \n",
       "4    Ah, quem me dera ser poeta\\nPra cantar em seu ...   \n",
       "..                                                 ...   \n",
       "915  POEMA DE CANÇÃO SOBRE A ESPERANÇA\\n\\nI\\n\\nDá-m...   \n",
       "916  HOMENAGEM AO CADAVER DESCONHECIDO  \\nVOCÊ \\n\\n...   \n",
       "917  OLHOS CASTANHOS\\n\\nUm brilho no seu olhar\\nQue...   \n",
       "918  É Proibido\\n\\nÉ proibido chorar sem aprender,\\...   \n",
       "919  Um poema para você minha amiga querida! \\nEu s...   \n",
       "\n",
       "                                    Page  \n",
       "0       https://www.pensador.com/poemas/  \n",
       "1       https://www.pensador.com/poemas/  \n",
       "2       https://www.pensador.com/poemas/  \n",
       "3       https://www.pensador.com/poemas/  \n",
       "4       https://www.pensador.com/poemas/  \n",
       "..                                   ...  \n",
       "915  https://www.pensador.com/poemas/46/  \n",
       "916  https://www.pensador.com/poemas/46/  \n",
       "917  https://www.pensador.com/poemas/46/  \n",
       "918  https://www.pensador.com/poemas/46/  \n",
       "919  https://www.pensador.com/poemas/46/  \n",
       "\n",
       "[920 rows x 3 columns]"
      ]
     },
     "metadata": {},
     "execution_count": 26
    }
   ],
   "metadata": {}
  },
  {
   "cell_type": "code",
   "execution_count": 27,
   "source": [
    "data.to_csv('../data/authors_poems.csv')"
   ],
   "outputs": [],
   "metadata": {}
  },
  {
   "cell_type": "code",
   "execution_count": null,
   "source": [],
   "outputs": [],
   "metadata": {}
  }
 ],
 "metadata": {
  "orig_nbformat": 4,
  "language_info": {
   "name": "python",
   "version": "3.9.7",
   "mimetype": "text/x-python",
   "codemirror_mode": {
    "name": "ipython",
    "version": 3
   },
   "pygments_lexer": "ipython3",
   "nbconvert_exporter": "python",
   "file_extension": ".py"
  },
  "kernelspec": {
   "name": "python3",
   "display_name": "Python 3.9.7 64-bit ('PoemGenerator': conda)"
  },
  "interpreter": {
   "hash": "d303e230045a8cc853a1c356324c4fdd2f35dfaf8774beb340a52429b8655d65"
  }
 },
 "nbformat": 4,
 "nbformat_minor": 2
}