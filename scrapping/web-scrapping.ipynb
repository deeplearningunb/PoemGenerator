{
 "cells": [
  {
   "cell_type": "markdown",
   "metadata": {},
   "source": [
    "Importamos o requests e o bs4 para fazer um requisição HTTP \"get\" do site e depois fazemos o scrapping do site pegando o conteúdo de interesse"
   ]
  },
  {
   "cell_type": "code",
   "execution_count": 1,
   "metadata": {},
   "outputs": [],
   "source": [
    "import requests\n",
    "from bs4 import BeautifulSoup\n",
    "import re\n",
    "import pandas as pd\n",
    "import numpy as np"
   ]
  },
  {
   "cell_type": "markdown",
   "metadata": {},
   "source": [
    "## Acessando os poemas e autores da página"
   ]
  },
  {
   "cell_type": "code",
   "execution_count": 2,
   "metadata": {},
   "outputs": [],
   "source": [
    "def get_poems_authors(url):\n",
    "    r = requests.get(url)\n",
    "    print(f\"The url: {url} status code it's {r.status_code}\")\n",
    "\n",
    "    html_doc = r.text\n",
    "    soup = BeautifulSoup(html_doc)\n",
    "\n",
    "    authors = []\n",
    "    poems = []\n",
    "\n",
    "    for span in soup.find_all(\"span\", class_=\"autor\"):\n",
    "        author = span.text\n",
    "        authors.append(author)\n",
    "\n",
    "    for span in soup.find_all(\"p\", class_=re.compile(r\"frase\\s.*\")):\n",
    "        poem = span.text\n",
    "        poems.append(poem)\n",
    "\n",
    "    current_page = soup.find(\"span\", class_=\"atual\")\n",
    "    next_page = current_page.find_next(\"a\")\n",
    "    \n",
    "    href_next_page = next_page['href']\n",
    "\n",
    "    if 'poemas' not in href_next_page:\n",
    "        href_next_page = False\n",
    "\n",
    "    urls = [url]*len(authors)\n",
    "\n",
    "    return href_next_page,authors,poems,urls"
   ]
  },
  {
   "cell_type": "markdown",
   "metadata": {},
   "source": [
    "Em razão da paginação do site, temos que buscar qual seria a próxima página, retornando o href como parâmetro na função acima e fazendo o scrpping da nova página"
   ]
  },
  {
   "cell_type": "markdown",
   "metadata": {},
   "source": [
    "## Criando um dataset que possui o autor e o seu poema"
   ]
  },
  {
   "cell_type": "code",
   "execution_count": 3,
   "metadata": {},
   "outputs": [
    {
     "name": "stdout",
     "output_type": "stream",
     "text": [
      "The url: https://www.pensador.com/poemas/ status code it's 200\n",
      "The url: https://www.pensador.com/poemas/2/ status code it's 200\n",
      "The url: https://www.pensador.com/poemas/3/ status code it's 200\n",
      "The url: https://www.pensador.com/poemas/4/ status code it's 200\n",
      "The url: https://www.pensador.com/poemas/5/ status code it's 200\n",
      "The url: https://www.pensador.com/poemas/6/ status code it's 200\n",
      "The url: https://www.pensador.com/poemas/7/ status code it's 200\n",
      "The url: https://www.pensador.com/poemas/8/ status code it's 200\n",
      "The url: https://www.pensador.com/poemas/9/ status code it's 200\n",
      "The url: https://www.pensador.com/poemas/10/ status code it's 200\n",
      "The url: https://www.pensador.com/poemas/11/ status code it's 200\n",
      "The url: https://www.pensador.com/poemas/12/ status code it's 200\n",
      "The url: https://www.pensador.com/poemas/13/ status code it's 200\n",
      "The url: https://www.pensador.com/poemas/14/ status code it's 200\n",
      "The url: https://www.pensador.com/poemas/15/ status code it's 200\n",
      "The url: https://www.pensador.com/poemas/16/ status code it's 200\n",
      "The url: https://www.pensador.com/poemas/17/ status code it's 200\n",
      "The url: https://www.pensador.com/poemas/18/ status code it's 200\n",
      "The url: https://www.pensador.com/poemas/19/ status code it's 200\n",
      "The url: https://www.pensador.com/poemas/20/ status code it's 200\n",
      "The url: https://www.pensador.com/poemas/21/ status code it's 200\n",
      "The url: https://www.pensador.com/poemas/22/ status code it's 200\n",
      "The url: https://www.pensador.com/poemas/23/ status code it's 200\n",
      "The url: https://www.pensador.com/poemas/24/ status code it's 200\n",
      "The url: https://www.pensador.com/poemas/25/ status code it's 200\n",
      "The url: https://www.pensador.com/poemas/26/ status code it's 200\n",
      "The url: https://www.pensador.com/poemas/27/ status code it's 200\n",
      "The url: https://www.pensador.com/poemas/28/ status code it's 200\n",
      "The url: https://www.pensador.com/poemas/29/ status code it's 200\n",
      "The url: https://www.pensador.com/poemas/30/ status code it's 200\n",
      "The url: https://www.pensador.com/poemas/31/ status code it's 200\n",
      "The url: https://www.pensador.com/poemas/32/ status code it's 200\n",
      "The url: https://www.pensador.com/poemas/33/ status code it's 200\n",
      "The url: https://www.pensador.com/poemas/34/ status code it's 200\n",
      "The url: https://www.pensador.com/poemas/35/ status code it's 200\n",
      "The url: https://www.pensador.com/poemas/36/ status code it's 200\n",
      "The url: https://www.pensador.com/poemas/37/ status code it's 200\n",
      "The url: https://www.pensador.com/poemas/38/ status code it's 200\n",
      "The url: https://www.pensador.com/poemas/39/ status code it's 200\n",
      "The url: https://www.pensador.com/poemas/40/ status code it's 200\n",
      "The url: https://www.pensador.com/poemas/41/ status code it's 200\n",
      "The url: https://www.pensador.com/poemas/42/ status code it's 200\n",
      "The url: https://www.pensador.com/poemas/43/ status code it's 200\n",
      "The url: https://www.pensador.com/poemas/44/ status code it's 200\n",
      "The url: https://www.pensador.com/poemas/45/ status code it's 200\n",
      "The url: https://www.pensador.com/poemas/46/ status code it's 200\n",
      "The url: https://www.pensador.com/poemas/47/ status code it's 200\n"
     ]
    }
   ],
   "source": [
    "main_page = \"https://www.pensador.com\"\n",
    "poem_page = \"https://www.pensador.com/poemas/\"\n",
    "href_exists = True\n",
    "\n",
    "urls = []\n",
    "authors = []\n",
    "poems = []\n",
    "\n",
    "while href_exists:\n",
    "    href,author,poem,url = get_poems_authors(poem_page)\n",
    "\n",
    "    href_exists = True if href else False\n",
    "    \n",
    "    if not href_exists:\n",
    "        break\n",
    "    \n",
    "    poem_page = main_page+href\n",
    "    urls.append(url)\n",
    "    authors.append(author)\n",
    "    poems.append(poem)"
   ]
  },
  {
   "cell_type": "code",
   "execution_count": 4,
   "metadata": {},
   "outputs": [
    {
     "data": {
      "text/plain": [
       "(46, 46, 46)"
      ]
     },
     "execution_count": 4,
     "metadata": {},
     "output_type": "execute_result"
    }
   ],
   "source": [
    "len(authors), len(poems), len(urls)"
   ]
  },
  {
   "cell_type": "code",
   "execution_count": 5,
   "metadata": {},
   "outputs": [],
   "source": [
    "def simple_list(_list):\n",
    "    if isinstance(_list, list):\n",
    "        return [sub_elem for elem in _list for sub_elem in simple_list(elem)]\n",
    "    else:\n",
    "        return [_list]"
   ]
  },
  {
   "cell_type": "code",
   "execution_count": 6,
   "metadata": {},
   "outputs": [
    {
     "data": {
      "text/plain": [
       "(920, 920, 920)"
      ]
     },
     "execution_count": 6,
     "metadata": {},
     "output_type": "execute_result"
    }
   ],
   "source": [
    "len(simple_list(authors)), len(simple_list(poems)), len(simple_list(urls))"
   ]
  },
  {
   "cell_type": "code",
   "execution_count": 7,
   "metadata": {},
   "outputs": [],
   "source": [
    "authors = simple_list(authors)\n",
    "poems = simple_list(poems)\n",
    "urls = simple_list(urls)"
   ]
  },
  {
   "cell_type": "code",
   "execution_count": 8,
   "metadata": {},
   "outputs": [],
   "source": [
    "data = pd.DataFrame(list(zip(authors, poems, urls)), columns =['Authors', 'Poems', 'Page'])"
   ]
  },
  {
   "cell_type": "code",
   "execution_count": 9,
   "metadata": {},
   "outputs": [],
   "source": [
    "data['Authors'] = data['Authors'].apply(lambda st:st.replace('\\n', '')).apply(str.strip)"
   ]
  },
  {
   "cell_type": "code",
   "execution_count": 10,
   "metadata": {},
   "outputs": [
    {
     "data": {
      "text/html": [
       "<div>\n",
       "<style scoped>\n",
       "    .dataframe tbody tr th:only-of-type {\n",
       "        vertical-align: middle;\n",
       "    }\n",
       "\n",
       "    .dataframe tbody tr th {\n",
       "        vertical-align: top;\n",
       "    }\n",
       "\n",
       "    .dataframe thead th {\n",
       "        text-align: right;\n",
       "    }\n",
       "</style>\n",
       "<table border=\"1\" class=\"dataframe\">\n",
       "  <thead>\n",
       "    <tr style=\"text-align: right;\">\n",
       "      <th></th>\n",
       "      <th>Authors</th>\n",
       "      <th>Poems</th>\n",
       "      <th>Page</th>\n",
       "    </tr>\n",
       "  </thead>\n",
       "  <tbody>\n",
       "    <tr>\n",
       "      <th>0</th>\n",
       "      <td>Fernando Pessoa</td>\n",
       "      <td>O poeta é um fingidor.\\nFinge tão completament...</td>\n",
       "      <td>https://www.pensador.com/poemas/</td>\n",
       "    </tr>\n",
       "    <tr>\n",
       "      <th>1</th>\n",
       "      <td>Fernando Pessoa</td>\n",
       "      <td>AUTOPSICOGRAFIA\\n\\nO poeta é um fingidor.\\nFin...</td>\n",
       "      <td>https://www.pensador.com/poemas/</td>\n",
       "    </tr>\n",
       "    <tr>\n",
       "      <th>2</th>\n",
       "      <td>Mario Quintana</td>\n",
       "      <td>SIMULTANEIDADE\\n\\n- Eu amo o mundo! Eu detesto...</td>\n",
       "      <td>https://www.pensador.com/poemas/</td>\n",
       "    </tr>\n",
       "    <tr>\n",
       "      <th>3</th>\n",
       "      <td>Clarice Pacheco</td>\n",
       "      <td>Caderno de poesias\\n\\nCaderno de poesias\\né um...</td>\n",
       "      <td>https://www.pensador.com/poemas/</td>\n",
       "    </tr>\n",
       "    <tr>\n",
       "      <th>4</th>\n",
       "      <td>Tom Jobim</td>\n",
       "      <td>Ah, quem me dera ser poeta\\nPra cantar em seu ...</td>\n",
       "      <td>https://www.pensador.com/poemas/</td>\n",
       "    </tr>\n",
       "    <tr>\n",
       "      <th>...</th>\n",
       "      <td>...</td>\n",
       "      <td>...</td>\n",
       "      <td>...</td>\n",
       "    </tr>\n",
       "    <tr>\n",
       "      <th>915</th>\n",
       "      <td>Álvaro de Campos</td>\n",
       "      <td>POEMA DE CANÇÃO SOBRE A ESPERANÇA\\n\\nI\\n\\nDá-m...</td>\n",
       "      <td>https://www.pensador.com/poemas/46/</td>\n",
       "    </tr>\n",
       "    <tr>\n",
       "      <th>916</th>\n",
       "      <td>Celia Piovesan</td>\n",
       "      <td>HOMENAGEM AO CADAVER DESCONHECIDO  \\nVOCÊ \\n\\n...</td>\n",
       "      <td>https://www.pensador.com/poemas/46/</td>\n",
       "    </tr>\n",
       "    <tr>\n",
       "      <th>917</th>\n",
       "      <td>Yalison Lillipuziano</td>\n",
       "      <td>OLHOS CASTANHOS\\n\\nUm brilho no seu olhar\\nQue...</td>\n",
       "      <td>https://www.pensador.com/poemas/46/</td>\n",
       "    </tr>\n",
       "    <tr>\n",
       "      <th>918</th>\n",
       "      <td>Alfredo Cuervo Barrero</td>\n",
       "      <td>É Proibido\\n\\nÉ proibido chorar sem aprender,\\...</td>\n",
       "      <td>https://www.pensador.com/poemas/46/</td>\n",
       "    </tr>\n",
       "    <tr>\n",
       "      <th>919</th>\n",
       "      <td>Nice Teixeira</td>\n",
       "      <td>Um poema para você minha amiga querida! \\nEu s...</td>\n",
       "      <td>https://www.pensador.com/poemas/46/</td>\n",
       "    </tr>\n",
       "  </tbody>\n",
       "</table>\n",
       "<p>920 rows × 3 columns</p>\n",
       "</div>"
      ],
      "text/plain": [
       "                    Authors  \\\n",
       "0           Fernando Pessoa   \n",
       "1           Fernando Pessoa   \n",
       "2            Mario Quintana   \n",
       "3           Clarice Pacheco   \n",
       "4                 Tom Jobim   \n",
       "..                      ...   \n",
       "915        Álvaro de Campos   \n",
       "916          Celia Piovesan   \n",
       "917    Yalison Lillipuziano   \n",
       "918  Alfredo Cuervo Barrero   \n",
       "919           Nice Teixeira   \n",
       "\n",
       "                                                 Poems  \\\n",
       "0    O poeta é um fingidor.\\nFinge tão completament...   \n",
       "1    AUTOPSICOGRAFIA\\n\\nO poeta é um fingidor.\\nFin...   \n",
       "2    SIMULTANEIDADE\\n\\n- Eu amo o mundo! Eu detesto...   \n",
       "3    Caderno de poesias\\n\\nCaderno de poesias\\né um...   \n",
       "4    Ah, quem me dera ser poeta\\nPra cantar em seu ...   \n",
       "..                                                 ...   \n",
       "915  POEMA DE CANÇÃO SOBRE A ESPERANÇA\\n\\nI\\n\\nDá-m...   \n",
       "916  HOMENAGEM AO CADAVER DESCONHECIDO  \\nVOCÊ \\n\\n...   \n",
       "917  OLHOS CASTANHOS\\n\\nUm brilho no seu olhar\\nQue...   \n",
       "918  É Proibido\\n\\nÉ proibido chorar sem aprender,\\...   \n",
       "919  Um poema para você minha amiga querida! \\nEu s...   \n",
       "\n",
       "                                    Page  \n",
       "0       https://www.pensador.com/poemas/  \n",
       "1       https://www.pensador.com/poemas/  \n",
       "2       https://www.pensador.com/poemas/  \n",
       "3       https://www.pensador.com/poemas/  \n",
       "4       https://www.pensador.com/poemas/  \n",
       "..                                   ...  \n",
       "915  https://www.pensador.com/poemas/46/  \n",
       "916  https://www.pensador.com/poemas/46/  \n",
       "917  https://www.pensador.com/poemas/46/  \n",
       "918  https://www.pensador.com/poemas/46/  \n",
       "919  https://www.pensador.com/poemas/46/  \n",
       "\n",
       "[920 rows x 3 columns]"
      ]
     },
     "execution_count": 10,
     "metadata": {},
     "output_type": "execute_result"
    }
   ],
   "source": [
    "data"
   ]
  },
  {
   "cell_type": "code",
   "execution_count": 11,
   "metadata": {},
   "outputs": [],
   "source": [
    "data.to_csv('../data/authors_poems.csv')"
   ]
  },
  {
   "cell_type": "code",
   "execution_count": null,
   "metadata": {},
   "outputs": [],
   "source": []
  }
 ],
 "metadata": {
  "interpreter": {
   "hash": "d303e230045a8cc853a1c356324c4fdd2f35dfaf8774beb340a52429b8655d65"
  },
  "kernelspec": {
   "display_name": "Python 3.9.7 64-bit ('PoemGenerator': conda)",
   "name": "python3"
  },
  "language_info": {
   "codemirror_mode": {
    "name": "ipython",
    "version": 3
   },
   "file_extension": ".py",
   "mimetype": "text/x-python",
   "name": "python",
   "nbconvert_exporter": "python",
   "pygments_lexer": "ipython3",
   "version": "3.9.7"
  },
  "orig_nbformat": 4
 },
 "nbformat": 4,
 "nbformat_minor": 2
}
