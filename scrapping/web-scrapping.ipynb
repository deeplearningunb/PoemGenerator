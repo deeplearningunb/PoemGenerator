{
 "cells": [
  {
   "cell_type": "markdown",
   "source": [
    "Importamos o requests e o bs4 para fazer um requisição HTTP \"get\" do site e depois fazemos o scrapping do site pegando o conteúdo de interesse"
   ],
   "metadata": {}
  },
  {
   "cell_type": "code",
   "execution_count": 49,
   "source": [
    "import requests\r\n",
    "from bs4 import BeautifulSoup\r\n",
    "import re"
   ],
   "outputs": [],
   "metadata": {}
  },
  {
   "cell_type": "code",
   "execution_count": 71,
   "source": [
    "def get_poems_authors(url):\r\n",
    "    r = requests.get(url)\r\n",
    "    print(f\"The url: {url} status code it's {r.status_code}\")\r\n",
    "\r\n",
    "    html_doc = r.text\r\n",
    "    soup = BeautifulSoup(html_doc)\r\n",
    "\r\n",
    "    authors = set()\r\n",
    "    poems = []\r\n",
    "\r\n",
    "    for span in soup.find_all(\"span\", class_=\"autor\"):\r\n",
    "        author = span.text\r\n",
    "        authors.add(author)\r\n",
    "\r\n",
    "    for span in soup.find_all(\"p\", class_=re.compile(r\"frase\\s.*\")):\r\n",
    "        poem = span.text\r\n",
    "        poems.append(poem)\r\n",
    "\r\n",
    "    current_page = soup.find(\"span\", class_=\"atual\")\r\n",
    "    next_page = current_page.find_next(\"a\")\r\n",
    "    \r\n",
    "    href_next_page = next_page['href']\r\n",
    "\r\n",
    "    if 'poemas' not in href_next_page:\r\n",
    "        href_next_page = False\r\n",
    "\r\n",
    "    return href_next_page,authors,poems"
   ],
   "outputs": [],
   "metadata": {}
  },
  {
   "cell_type": "markdown",
   "source": [
    "Em razão da paginação do site, temos que buscar qual seria a próxima página, retornando o href como parâmetro na função acima e fazendo o scrpping da nova página"
   ],
   "metadata": {}
  },
  {
   "cell_type": "code",
   "execution_count": null,
   "source": [
    "main_page = \"https://www.pensador.com\"\r\n",
    "poem_page = \"https://www.pensador.com/poemas/\"\r\n",
    "href_exists = True\r\n",
    "\r\n",
    "while href_exists:\r\n",
    "    href,authors,poems = get_poems_authors(poem_page)\r\n",
    "\r\n",
    "    href_exists = True if href else False\r\n",
    "    \r\n",
    "    if not href_exists:\r\n",
    "        break\r\n",
    "\r\n",
    "    poem_page = main_page+href"
   ],
   "outputs": [],
   "metadata": {}
  }
 ],
 "metadata": {
  "orig_nbformat": 4,
  "language_info": {
   "name": "python",
   "version": "3.9.7",
   "mimetype": "text/x-python",
   "codemirror_mode": {
    "name": "ipython",
    "version": 3
   },
   "pygments_lexer": "ipython3",
   "nbconvert_exporter": "python",
   "file_extension": ".py"
  },
  "kernelspec": {
   "name": "python3",
   "display_name": "Python 3.9.7 64-bit ('PoemGenerator': conda)"
  },
  "interpreter": {
   "hash": "d303e230045a8cc853a1c356324c4fdd2f35dfaf8774beb340a52429b8655d65"
  }
 },
 "nbformat": 4,
 "nbformat_minor": 2
}