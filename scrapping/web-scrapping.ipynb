{
 "cells": [
  {
   "cell_type": "markdown",
   "source": [
    "Importamos o requests e o bs4 para fazer um requisição HTTP \"get\" do site e depois fazemos o scrapping do site pegando o conteúdo de interesse"
   ],
   "metadata": {}
  },
  {
   "cell_type": "code",
   "execution_count": 1,
   "source": [
    "import requests\r\n",
    "from bs4 import BeautifulSoup\r\n",
    "import re\r\n",
    "import pandas as pd\r\n",
    "import numpy as np"
   ],
   "outputs": [],
   "metadata": {}
  },
  {
   "cell_type": "code",
   "execution_count": 2,
   "source": [
    "def get_poems_authors(url):\r\n",
    "    r = requests.get(url)\r\n",
    "    print(f\"The url: {url} status code it's {r.status_code}\")\r\n",
    "\r\n",
    "    html_doc = r.text\r\n",
    "    soup = BeautifulSoup(html_doc)\r\n",
    "\r\n",
    "    authors = []\r\n",
    "    poems = []\r\n",
    "\r\n",
    "    for span in soup.find_all(\"span\", class_=\"autor\"):\r\n",
    "        author = span.text\r\n",
    "        authors.append(author)\r\n",
    "\r\n",
    "    for span in soup.find_all(\"p\", class_=re.compile(r\"frase\\s.*\")):\r\n",
    "        poem = span.text\r\n",
    "        poems.append(poem)\r\n",
    "\r\n",
    "    current_page = soup.find(\"span\", class_=\"atual\")\r\n",
    "    next_page = current_page.find_next(\"a\")\r\n",
    "    \r\n",
    "    href_next_page = next_page['href']\r\n",
    "\r\n",
    "    if 'poemas' not in href_next_page:\r\n",
    "        href_next_page = False\r\n",
    "\r\n",
    "    return href_next_page,authors,poems"
   ],
   "outputs": [],
   "metadata": {}
  },
  {
   "cell_type": "markdown",
   "source": [
    "Em razão da paginação do site, temos que buscar qual seria a próxima página, retornando o href como parâmetro na função acima e fazendo o scrpping da nova página"
   ],
   "metadata": {}
  },
  {
   "cell_type": "code",
   "execution_count": 3,
   "source": [
    "main_page = \"https://www.pensador.com\"\r\n",
    "poem_page = \"https://www.pensador.com/poemas/\"\r\n",
    "href_exists = True\r\n",
    "\r\n",
    "urls = []\r\n",
    "\r\n",
    "while href_exists:\r\n",
    "    href,authors,poems = get_poems_authors(poem_page)\r\n",
    "\r\n",
    "    href_exists = True if href else False\r\n",
    "    \r\n",
    "    if not href_exists:\r\n",
    "        break\r\n",
    "    \r\n",
    "    poem_page = main_page+href\r\n",
    "    urls.append(poem_page)"
   ],
   "outputs": [
    {
     "output_type": "stream",
     "name": "stdout",
     "text": [
      "The url: https://www.pensador.com/poemas/ status code it's 200\n",
      "The url: https://www.pensador.com/poemas/2/ status code it's 200\n",
      "The url: https://www.pensador.com/poemas/3/ status code it's 200\n",
      "The url: https://www.pensador.com/poemas/4/ status code it's 200\n",
      "The url: https://www.pensador.com/poemas/5/ status code it's 200\n",
      "The url: https://www.pensador.com/poemas/6/ status code it's 200\n",
      "The url: https://www.pensador.com/poemas/7/ status code it's 200\n",
      "The url: https://www.pensador.com/poemas/8/ status code it's 200\n",
      "The url: https://www.pensador.com/poemas/9/ status code it's 200\n",
      "The url: https://www.pensador.com/poemas/10/ status code it's 200\n",
      "The url: https://www.pensador.com/poemas/11/ status code it's 200\n",
      "The url: https://www.pensador.com/poemas/12/ status code it's 200\n",
      "The url: https://www.pensador.com/poemas/13/ status code it's 200\n",
      "The url: https://www.pensador.com/poemas/14/ status code it's 200\n",
      "The url: https://www.pensador.com/poemas/15/ status code it's 200\n",
      "The url: https://www.pensador.com/poemas/16/ status code it's 200\n",
      "The url: https://www.pensador.com/poemas/17/ status code it's 200\n",
      "The url: https://www.pensador.com/poemas/18/ status code it's 200\n",
      "The url: https://www.pensador.com/poemas/19/ status code it's 200\n",
      "The url: https://www.pensador.com/poemas/20/ status code it's 200\n",
      "The url: https://www.pensador.com/poemas/21/ status code it's 200\n",
      "The url: https://www.pensador.com/poemas/22/ status code it's 200\n",
      "The url: https://www.pensador.com/poemas/23/ status code it's 200\n",
      "The url: https://www.pensador.com/poemas/24/ status code it's 200\n",
      "The url: https://www.pensador.com/poemas/25/ status code it's 200\n",
      "The url: https://www.pensador.com/poemas/26/ status code it's 200\n",
      "The url: https://www.pensador.com/poemas/27/ status code it's 200\n",
      "The url: https://www.pensador.com/poemas/28/ status code it's 200\n",
      "The url: https://www.pensador.com/poemas/29/ status code it's 200\n",
      "The url: https://www.pensador.com/poemas/30/ status code it's 200\n",
      "The url: https://www.pensador.com/poemas/31/ status code it's 200\n",
      "The url: https://www.pensador.com/poemas/32/ status code it's 200\n",
      "The url: https://www.pensador.com/poemas/33/ status code it's 200\n",
      "The url: https://www.pensador.com/poemas/34/ status code it's 200\n",
      "The url: https://www.pensador.com/poemas/35/ status code it's 200\n",
      "The url: https://www.pensador.com/poemas/36/ status code it's 200\n",
      "The url: https://www.pensador.com/poemas/37/ status code it's 200\n",
      "The url: https://www.pensador.com/poemas/38/ status code it's 200\n",
      "The url: https://www.pensador.com/poemas/39/ status code it's 200\n",
      "The url: https://www.pensador.com/poemas/40/ status code it's 200\n",
      "The url: https://www.pensador.com/poemas/41/ status code it's 200\n",
      "The url: https://www.pensador.com/poemas/42/ status code it's 200\n",
      "The url: https://www.pensador.com/poemas/43/ status code it's 200\n",
      "The url: https://www.pensador.com/poemas/44/ status code it's 200\n",
      "The url: https://www.pensador.com/poemas/45/ status code it's 200\n",
      "The url: https://www.pensador.com/poemas/46/ status code it's 200\n",
      "The url: https://www.pensador.com/poemas/47/ status code it's 200\n"
     ]
    }
   ],
   "metadata": {}
  },
  {
   "cell_type": "markdown",
   "source": [
    "# Criando um dataset que possui o autor e o seu poema"
   ],
   "metadata": {}
  },
  {
   "cell_type": "code",
   "execution_count": 10,
   "source": [
    "authors = []\r\n",
    "poems = []\r\n",
    "\r\n",
    "for url in urls:\r\n",
    "    authors.append(get_poems_authors(url)[1])\r\n",
    "    poems.append(get_poems_authors(url)[2])"
   ],
   "outputs": [
    {
     "output_type": "stream",
     "name": "stdout",
     "text": [
      "The url: https://www.pensador.com/poemas/2/ status code it's 200\n",
      "The url: https://www.pensador.com/poemas/2/ status code it's 200\n",
      "The url: https://www.pensador.com/poemas/3/ status code it's 200\n",
      "The url: https://www.pensador.com/poemas/3/ status code it's 200\n",
      "The url: https://www.pensador.com/poemas/4/ status code it's 200\n",
      "The url: https://www.pensador.com/poemas/4/ status code it's 200\n",
      "The url: https://www.pensador.com/poemas/5/ status code it's 200\n",
      "The url: https://www.pensador.com/poemas/5/ status code it's 200\n",
      "The url: https://www.pensador.com/poemas/6/ status code it's 200\n",
      "The url: https://www.pensador.com/poemas/6/ status code it's 200\n",
      "The url: https://www.pensador.com/poemas/7/ status code it's 200\n",
      "The url: https://www.pensador.com/poemas/7/ status code it's 200\n",
      "The url: https://www.pensador.com/poemas/8/ status code it's 200\n",
      "The url: https://www.pensador.com/poemas/8/ status code it's 200\n",
      "The url: https://www.pensador.com/poemas/9/ status code it's 200\n",
      "The url: https://www.pensador.com/poemas/9/ status code it's 200\n",
      "The url: https://www.pensador.com/poemas/10/ status code it's 200\n",
      "The url: https://www.pensador.com/poemas/10/ status code it's 200\n",
      "The url: https://www.pensador.com/poemas/11/ status code it's 200\n",
      "The url: https://www.pensador.com/poemas/11/ status code it's 200\n",
      "The url: https://www.pensador.com/poemas/12/ status code it's 200\n",
      "The url: https://www.pensador.com/poemas/12/ status code it's 200\n",
      "The url: https://www.pensador.com/poemas/13/ status code it's 200\n",
      "The url: https://www.pensador.com/poemas/13/ status code it's 200\n",
      "The url: https://www.pensador.com/poemas/14/ status code it's 200\n",
      "The url: https://www.pensador.com/poemas/14/ status code it's 200\n",
      "The url: https://www.pensador.com/poemas/15/ status code it's 200\n",
      "The url: https://www.pensador.com/poemas/15/ status code it's 200\n",
      "The url: https://www.pensador.com/poemas/16/ status code it's 200\n",
      "The url: https://www.pensador.com/poemas/16/ status code it's 200\n",
      "The url: https://www.pensador.com/poemas/17/ status code it's 200\n",
      "The url: https://www.pensador.com/poemas/17/ status code it's 200\n",
      "The url: https://www.pensador.com/poemas/18/ status code it's 200\n",
      "The url: https://www.pensador.com/poemas/18/ status code it's 200\n",
      "The url: https://www.pensador.com/poemas/19/ status code it's 200\n",
      "The url: https://www.pensador.com/poemas/19/ status code it's 200\n",
      "The url: https://www.pensador.com/poemas/20/ status code it's 200\n",
      "The url: https://www.pensador.com/poemas/20/ status code it's 200\n",
      "The url: https://www.pensador.com/poemas/21/ status code it's 200\n",
      "The url: https://www.pensador.com/poemas/21/ status code it's 200\n",
      "The url: https://www.pensador.com/poemas/22/ status code it's 200\n",
      "The url: https://www.pensador.com/poemas/22/ status code it's 200\n",
      "The url: https://www.pensador.com/poemas/23/ status code it's 200\n",
      "The url: https://www.pensador.com/poemas/23/ status code it's 200\n",
      "The url: https://www.pensador.com/poemas/24/ status code it's 200\n",
      "The url: https://www.pensador.com/poemas/24/ status code it's 200\n",
      "The url: https://www.pensador.com/poemas/25/ status code it's 200\n",
      "The url: https://www.pensador.com/poemas/25/ status code it's 200\n",
      "The url: https://www.pensador.com/poemas/26/ status code it's 200\n",
      "The url: https://www.pensador.com/poemas/26/ status code it's 200\n",
      "The url: https://www.pensador.com/poemas/27/ status code it's 200\n",
      "The url: https://www.pensador.com/poemas/27/ status code it's 200\n",
      "The url: https://www.pensador.com/poemas/28/ status code it's 200\n",
      "The url: https://www.pensador.com/poemas/28/ status code it's 200\n",
      "The url: https://www.pensador.com/poemas/29/ status code it's 200\n",
      "The url: https://www.pensador.com/poemas/29/ status code it's 200\n",
      "The url: https://www.pensador.com/poemas/30/ status code it's 200\n",
      "The url: https://www.pensador.com/poemas/30/ status code it's 200\n",
      "The url: https://www.pensador.com/poemas/31/ status code it's 200\n",
      "The url: https://www.pensador.com/poemas/31/ status code it's 200\n",
      "The url: https://www.pensador.com/poemas/32/ status code it's 200\n",
      "The url: https://www.pensador.com/poemas/32/ status code it's 200\n",
      "The url: https://www.pensador.com/poemas/33/ status code it's 200\n",
      "The url: https://www.pensador.com/poemas/33/ status code it's 200\n",
      "The url: https://www.pensador.com/poemas/34/ status code it's 200\n",
      "The url: https://www.pensador.com/poemas/34/ status code it's 200\n",
      "The url: https://www.pensador.com/poemas/35/ status code it's 200\n",
      "The url: https://www.pensador.com/poemas/35/ status code it's 200\n",
      "The url: https://www.pensador.com/poemas/36/ status code it's 200\n",
      "The url: https://www.pensador.com/poemas/36/ status code it's 200\n",
      "The url: https://www.pensador.com/poemas/37/ status code it's 200\n",
      "The url: https://www.pensador.com/poemas/37/ status code it's 200\n",
      "The url: https://www.pensador.com/poemas/38/ status code it's 200\n",
      "The url: https://www.pensador.com/poemas/38/ status code it's 200\n",
      "The url: https://www.pensador.com/poemas/39/ status code it's 200\n",
      "The url: https://www.pensador.com/poemas/39/ status code it's 200\n",
      "The url: https://www.pensador.com/poemas/40/ status code it's 200\n",
      "The url: https://www.pensador.com/poemas/40/ status code it's 200\n",
      "The url: https://www.pensador.com/poemas/41/ status code it's 200\n",
      "The url: https://www.pensador.com/poemas/41/ status code it's 200\n",
      "The url: https://www.pensador.com/poemas/42/ status code it's 200\n",
      "The url: https://www.pensador.com/poemas/42/ status code it's 200\n",
      "The url: https://www.pensador.com/poemas/43/ status code it's 200\n",
      "The url: https://www.pensador.com/poemas/43/ status code it's 200\n",
      "The url: https://www.pensador.com/poemas/44/ status code it's 200\n",
      "The url: https://www.pensador.com/poemas/44/ status code it's 200\n",
      "The url: https://www.pensador.com/poemas/45/ status code it's 200\n",
      "The url: https://www.pensador.com/poemas/45/ status code it's 200\n",
      "The url: https://www.pensador.com/poemas/46/ status code it's 200\n",
      "The url: https://www.pensador.com/poemas/46/ status code it's 200\n",
      "The url: https://www.pensador.com/poemas/47/ status code it's 200\n",
      "The url: https://www.pensador.com/poemas/47/ status code it's 200\n"
     ]
    }
   ],
   "metadata": {}
  },
  {
   "cell_type": "code",
   "execution_count": 11,
   "source": [
    "len(authors), len(poems)"
   ],
   "outputs": [
    {
     "output_type": "execute_result",
     "data": {
      "text/plain": [
       "(46, 46)"
      ]
     },
     "metadata": {},
     "execution_count": 11
    }
   ],
   "metadata": {}
  },
  {
   "cell_type": "code",
   "execution_count": 12,
   "source": [
    "def simple_list(_list):\r\n",
    "    if isinstance(_list, list):\r\n",
    "        return [sub_elem for elem in _list for sub_elem in simple_list(elem)]\r\n",
    "    else:\r\n",
    "        return [_list]"
   ],
   "outputs": [],
   "metadata": {}
  },
  {
   "cell_type": "code",
   "execution_count": 13,
   "source": [
    "len(simple_list(authors)), len(simple_list(poems))"
   ],
   "outputs": [
    {
     "output_type": "execute_result",
     "data": {
      "text/plain": [
       "(912, 912)"
      ]
     },
     "metadata": {},
     "execution_count": 13
    }
   ],
   "metadata": {}
  },
  {
   "cell_type": "code",
   "execution_count": 39,
   "source": [
    "authors = simple_list(authors)\r\n",
    "poems = simple_list(poems)"
   ],
   "outputs": [],
   "metadata": {}
  },
  {
   "cell_type": "code",
   "execution_count": 48,
   "source": [
    "data = pd.DataFrame(list(zip(authors, poems)), columns =['Authors', 'Poems'])"
   ],
   "outputs": [],
   "metadata": {}
  },
  {
   "cell_type": "code",
   "execution_count": 49,
   "source": [
    "for idx in range(len(data)):\r\n",
    "    data['Authors'][idx] = data['Authors'][idx].replace('\\n', '').strip()\r\n",
    "    data['Poems'][idx] = data['Poems'][idx]"
   ],
   "outputs": [],
   "metadata": {}
  },
  {
   "cell_type": "code",
   "execution_count": 50,
   "source": [
    "data"
   ],
   "outputs": [
    {
     "output_type": "execute_result",
     "data": {
      "text/html": [
       "<div>\n",
       "<style scoped>\n",
       "    .dataframe tbody tr th:only-of-type {\n",
       "        vertical-align: middle;\n",
       "    }\n",
       "\n",
       "    .dataframe tbody tr th {\n",
       "        vertical-align: top;\n",
       "    }\n",
       "\n",
       "    .dataframe thead th {\n",
       "        text-align: right;\n",
       "    }\n",
       "</style>\n",
       "<table border=\"1\" class=\"dataframe\">\n",
       "  <thead>\n",
       "    <tr style=\"text-align: right;\">\n",
       "      <th></th>\n",
       "      <th>Authors</th>\n",
       "      <th>Poems</th>\n",
       "    </tr>\n",
       "  </thead>\n",
       "  <tbody>\n",
       "    <tr>\n",
       "      <th>0</th>\n",
       "      <td>Octavio Paz</td>\n",
       "      <td>DESTINO DO POETA\\n\\nPalavras? Sim. De ar\\ne pe...</td>\n",
       "    </tr>\n",
       "    <tr>\n",
       "      <th>1</th>\n",
       "      <td>Chico Buarque</td>\n",
       "      <td>Mesmo que você fuja de mim \\nPor labirintos e ...</td>\n",
       "    </tr>\n",
       "    <tr>\n",
       "      <th>2</th>\n",
       "      <td>Bráulio Bessa</td>\n",
       "      <td>Mulher tu não és igual\\ntu não és regra, ou pa...</td>\n",
       "    </tr>\n",
       "    <tr>\n",
       "      <th>3</th>\n",
       "      <td>Jane Austen</td>\n",
       "      <td>Elizabeth: Eu me pergunto quem descobriu o pod...</td>\n",
       "    </tr>\n",
       "    <tr>\n",
       "      <th>4</th>\n",
       "      <td>Adélia Prado</td>\n",
       "      <td>Eu quero uma licença de dormir,\\nperdão pra de...</td>\n",
       "    </tr>\n",
       "    <tr>\n",
       "      <th>...</th>\n",
       "      <td>...</td>\n",
       "      <td>...</td>\n",
       "    </tr>\n",
       "    <tr>\n",
       "      <th>907</th>\n",
       "      <td>Desconhecido</td>\n",
       "      <td>Eu não definitivamente nesse mundo existo sem ...</td>\n",
       "    </tr>\n",
       "    <tr>\n",
       "      <th>908</th>\n",
       "      <td>Thaís Moura</td>\n",
       "      <td>Esse poema é dedicado a uma grande amiga, a qu...</td>\n",
       "    </tr>\n",
       "    <tr>\n",
       "      <th>909</th>\n",
       "      <td>Poemas e Poesias Catarinenses - Face</td>\n",
       "      <td>A Especial\\n\\nEu lhe vi longe o bastante para ...</td>\n",
       "    </tr>\n",
       "    <tr>\n",
       "      <th>910</th>\n",
       "      <td>Poemas e Poesias Catarinenses - Face</td>\n",
       "      <td>(sem título)\\nde: José Ricardo de Matos Pereir...</td>\n",
       "    </tr>\n",
       "    <tr>\n",
       "      <th>911</th>\n",
       "      <td>Martha Medeiros</td>\n",
       "      <td>A Voz Do Silêncio\\n\\nPaula Taitelbaum é uma po...</td>\n",
       "    </tr>\n",
       "  </tbody>\n",
       "</table>\n",
       "<p>912 rows × 2 columns</p>\n",
       "</div>"
      ],
      "text/plain": [
       "                                  Authors  \\\n",
       "0                             Octavio Paz   \n",
       "1                           Chico Buarque   \n",
       "2                           Bráulio Bessa   \n",
       "3                             Jane Austen   \n",
       "4                            Adélia Prado   \n",
       "..                                    ...   \n",
       "907                          Desconhecido   \n",
       "908                           Thaís Moura   \n",
       "909  Poemas e Poesias Catarinenses - Face   \n",
       "910  Poemas e Poesias Catarinenses - Face   \n",
       "911                       Martha Medeiros   \n",
       "\n",
       "                                                 Poems  \n",
       "0    DESTINO DO POETA\\n\\nPalavras? Sim. De ar\\ne pe...  \n",
       "1    Mesmo que você fuja de mim \\nPor labirintos e ...  \n",
       "2    Mulher tu não és igual\\ntu não és regra, ou pa...  \n",
       "3    Elizabeth: Eu me pergunto quem descobriu o pod...  \n",
       "4    Eu quero uma licença de dormir,\\nperdão pra de...  \n",
       "..                                                 ...  \n",
       "907  Eu não definitivamente nesse mundo existo sem ...  \n",
       "908  Esse poema é dedicado a uma grande amiga, a qu...  \n",
       "909  A Especial\\n\\nEu lhe vi longe o bastante para ...  \n",
       "910  (sem título)\\nde: José Ricardo de Matos Pereir...  \n",
       "911  A Voz Do Silêncio\\n\\nPaula Taitelbaum é uma po...  \n",
       "\n",
       "[912 rows x 2 columns]"
      ]
     },
     "metadata": {},
     "execution_count": 50
    }
   ],
   "metadata": {}
  },
  {
   "cell_type": "code",
   "execution_count": 47,
   "source": [
    "data.to_csv('../data/authors_poems.csv')"
   ],
   "outputs": [],
   "metadata": {}
  }
 ],
 "metadata": {
  "orig_nbformat": 4,
  "language_info": {
   "name": "python",
   "version": "3.6.8",
   "mimetype": "text/x-python",
   "codemirror_mode": {
    "name": "ipython",
    "version": 3
   },
   "pygments_lexer": "ipython3",
   "nbconvert_exporter": "python",
   "file_extension": ".py"
  },
  "kernelspec": {
   "name": "python3",
   "display_name": "Python 3.6.8 64-bit"
  },
  "interpreter": {
   "hash": "6a5ed2ccc9d2ba59c3542bbda7f71bcfb6eae0ef46ae44aa32b9fd054184bad6"
  }
 },
 "nbformat": 4,
 "nbformat_minor": 2
}