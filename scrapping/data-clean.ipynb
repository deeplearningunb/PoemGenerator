{
 "cells": [
  {
   "cell_type": "markdown",
   "metadata": {},
   "source": [
    "## Fazendo a limpeza das poesias"
   ]
  },
  {
   "cell_type": "code",
   "execution_count": 12,
   "metadata": {},
   "outputs": [],
   "source": [
    "import pandas as pd\n",
    "import re"
   ]
  },
  {
   "cell_type": "code",
   "execution_count": 13,
   "metadata": {},
   "outputs": [
    {
     "data": {
      "text/html": [
       "<div>\n",
       "<style scoped>\n",
       "    .dataframe tbody tr th:only-of-type {\n",
       "        vertical-align: middle;\n",
       "    }\n",
       "\n",
       "    .dataframe tbody tr th {\n",
       "        vertical-align: top;\n",
       "    }\n",
       "\n",
       "    .dataframe thead th {\n",
       "        text-align: right;\n",
       "    }\n",
       "</style>\n",
       "<table border=\"1\" class=\"dataframe\">\n",
       "  <thead>\n",
       "    <tr style=\"text-align: right;\">\n",
       "      <th></th>\n",
       "      <th>Authors</th>\n",
       "      <th>Poems</th>\n",
       "      <th>Page</th>\n",
       "    </tr>\n",
       "  </thead>\n",
       "  <tbody>\n",
       "    <tr>\n",
       "      <th>0</th>\n",
       "      <td>Fernando Pessoa</td>\n",
       "      <td>O poeta é um fingidor.\\nFinge tão completament...</td>\n",
       "      <td>https://www.pensador.com/poemas/</td>\n",
       "    </tr>\n",
       "    <tr>\n",
       "      <th>1</th>\n",
       "      <td>Fernando Pessoa</td>\n",
       "      <td>AUTOPSICOGRAFIA\\n\\nO poeta é um fingidor.\\nFin...</td>\n",
       "      <td>https://www.pensador.com/poemas/</td>\n",
       "    </tr>\n",
       "    <tr>\n",
       "      <th>2</th>\n",
       "      <td>Mario Quintana</td>\n",
       "      <td>SIMULTANEIDADE\\n\\n- Eu amo o mundo! Eu detesto...</td>\n",
       "      <td>https://www.pensador.com/poemas/</td>\n",
       "    </tr>\n",
       "    <tr>\n",
       "      <th>3</th>\n",
       "      <td>Clarice Pacheco</td>\n",
       "      <td>Caderno de poesias\\n\\nCaderno de poesias\\né um...</td>\n",
       "      <td>https://www.pensador.com/poemas/</td>\n",
       "    </tr>\n",
       "    <tr>\n",
       "      <th>4</th>\n",
       "      <td>Tom Jobim</td>\n",
       "      <td>Ah, quem me dera ser poeta\\nPra cantar em seu ...</td>\n",
       "      <td>https://www.pensador.com/poemas/</td>\n",
       "    </tr>\n",
       "    <tr>\n",
       "      <th>5</th>\n",
       "      <td>Pedro Bial</td>\n",
       "      <td>Poesia não dá camisa.\\nMas quando o poeta tem ...</td>\n",
       "      <td>https://www.pensador.com/poemas/</td>\n",
       "    </tr>\n",
       "    <tr>\n",
       "      <th>6</th>\n",
       "      <td>Mario Quintana</td>\n",
       "      <td>Os poemas são pássaros que chegam\\nnão se sabe...</td>\n",
       "      <td>https://www.pensador.com/poemas/</td>\n",
       "    </tr>\n",
       "    <tr>\n",
       "      <th>7</th>\n",
       "      <td>Mario Quintana</td>\n",
       "      <td>[Busca]\\nSubnutrido de beleza, meu cachorro-po...</td>\n",
       "      <td>https://www.pensador.com/poemas/</td>\n",
       "    </tr>\n",
       "    <tr>\n",
       "      <th>8</th>\n",
       "      <td>Luís de Camões</td>\n",
       "      <td>Amor é fogo que arde sem se ver;\\nÉ ferida que...</td>\n",
       "      <td>https://www.pensador.com/poemas/</td>\n",
       "    </tr>\n",
       "    <tr>\n",
       "      <th>9</th>\n",
       "      <td>Mario Quintana</td>\n",
       "      <td>Quem Sabe um Dia\\n\\nQuem sabe um dia\\nQuem sab...</td>\n",
       "      <td>https://www.pensador.com/poemas/</td>\n",
       "    </tr>\n",
       "    <tr>\n",
       "      <th>10</th>\n",
       "      <td>Arthur Rimbaud</td>\n",
       "      <td>O poeta se faz vidente por meio de um longo, i...</td>\n",
       "      <td>https://www.pensador.com/poemas/</td>\n",
       "    </tr>\n",
       "    <tr>\n",
       "      <th>11</th>\n",
       "      <td>Sociedade dos poetas mortos</td>\n",
       "      <td>...Poesia...\\n\\nNós não lemos e escrevemos poe...</td>\n",
       "      <td>https://www.pensador.com/poemas/</td>\n",
       "    </tr>\n",
       "    <tr>\n",
       "      <th>12</th>\n",
       "      <td>Bruno Bezerra</td>\n",
       "      <td>AS ONDA\\n(poema do projeto Noronha – Imagem e ...</td>\n",
       "      <td>https://www.pensador.com/poemas/</td>\n",
       "    </tr>\n",
       "    <tr>\n",
       "      <th>13</th>\n",
       "      <td>Charles Bukowski</td>\n",
       "      <td>O que eu odeio é que algum dia tudo se reduzir...</td>\n",
       "      <td>https://www.pensador.com/poemas/</td>\n",
       "    </tr>\n",
       "    <tr>\n",
       "      <th>14</th>\n",
       "      <td>Bráulio Bessa</td>\n",
       "      <td>Acredite, pense e faça,\\nuse sua intuição,\\ntr...</td>\n",
       "      <td>https://www.pensador.com/poemas/</td>\n",
       "    </tr>\n",
       "    <tr>\n",
       "      <th>15</th>\n",
       "      <td>Alice Ruiz</td>\n",
       "      <td>Pode haver um dia\\nem que a poesia\\nmude de en...</td>\n",
       "      <td>https://www.pensador.com/poemas/</td>\n",
       "    </tr>\n",
       "    <tr>\n",
       "      <th>16</th>\n",
       "      <td>Giordano Bruno</td>\n",
       "      <td>A poesia não nasce das regras, a não ser em pa...</td>\n",
       "      <td>https://www.pensador.com/poemas/</td>\n",
       "    </tr>\n",
       "    <tr>\n",
       "      <th>17</th>\n",
       "      <td>Ivone Boechat</td>\n",
       "      <td>TRAIÇÃO\\n\\nHoje,\\nque as  memórias se esvaem \\...</td>\n",
       "      <td>https://www.pensador.com/poemas/</td>\n",
       "    </tr>\n",
       "    <tr>\n",
       "      <th>18</th>\n",
       "      <td>Adélia Prado</td>\n",
       "      <td>\"O transe poético é o experimento de uma reali...</td>\n",
       "      <td>https://www.pensador.com/poemas/</td>\n",
       "    </tr>\n",
       "    <tr>\n",
       "      <th>19</th>\n",
       "      <td>Carlos Drummond de Andrade</td>\n",
       "      <td>Memória\\n\\nAmar o perdido\\ndeixa confundido\\ne...</td>\n",
       "      <td>https://www.pensador.com/poemas/</td>\n",
       "    </tr>\n",
       "  </tbody>\n",
       "</table>\n",
       "</div>"
      ],
      "text/plain": [
       "                        Authors  \\\n",
       "0               Fernando Pessoa   \n",
       "1               Fernando Pessoa   \n",
       "2                Mario Quintana   \n",
       "3               Clarice Pacheco   \n",
       "4                     Tom Jobim   \n",
       "5                    Pedro Bial   \n",
       "6                Mario Quintana   \n",
       "7                Mario Quintana   \n",
       "8                Luís de Camões   \n",
       "9                Mario Quintana   \n",
       "10               Arthur Rimbaud   \n",
       "11  Sociedade dos poetas mortos   \n",
       "12                Bruno Bezerra   \n",
       "13             Charles Bukowski   \n",
       "14                Bráulio Bessa   \n",
       "15                   Alice Ruiz   \n",
       "16               Giordano Bruno   \n",
       "17                Ivone Boechat   \n",
       "18                 Adélia Prado   \n",
       "19   Carlos Drummond de Andrade   \n",
       "\n",
       "                                                Poems  \\\n",
       "0   O poeta é um fingidor.\\nFinge tão completament...   \n",
       "1   AUTOPSICOGRAFIA\\n\\nO poeta é um fingidor.\\nFin...   \n",
       "2   SIMULTANEIDADE\\n\\n- Eu amo o mundo! Eu detesto...   \n",
       "3   Caderno de poesias\\n\\nCaderno de poesias\\né um...   \n",
       "4   Ah, quem me dera ser poeta\\nPra cantar em seu ...   \n",
       "5   Poesia não dá camisa.\\nMas quando o poeta tem ...   \n",
       "6   Os poemas são pássaros que chegam\\nnão se sabe...   \n",
       "7   [Busca]\\nSubnutrido de beleza, meu cachorro-po...   \n",
       "8   Amor é fogo que arde sem se ver;\\nÉ ferida que...   \n",
       "9   Quem Sabe um Dia\\n\\nQuem sabe um dia\\nQuem sab...   \n",
       "10  O poeta se faz vidente por meio de um longo, i...   \n",
       "11  ...Poesia...\\n\\nNós não lemos e escrevemos poe...   \n",
       "12  AS ONDA\\n(poema do projeto Noronha – Imagem e ...   \n",
       "13  O que eu odeio é que algum dia tudo se reduzir...   \n",
       "14  Acredite, pense e faça,\\nuse sua intuição,\\ntr...   \n",
       "15  Pode haver um dia\\nem que a poesia\\nmude de en...   \n",
       "16  A poesia não nasce das regras, a não ser em pa...   \n",
       "17  TRAIÇÃO\\n\\nHoje,\\nque as  memórias se esvaem \\...   \n",
       "18  \"O transe poético é o experimento de uma reali...   \n",
       "19  Memória\\n\\nAmar o perdido\\ndeixa confundido\\ne...   \n",
       "\n",
       "                                Page  \n",
       "0   https://www.pensador.com/poemas/  \n",
       "1   https://www.pensador.com/poemas/  \n",
       "2   https://www.pensador.com/poemas/  \n",
       "3   https://www.pensador.com/poemas/  \n",
       "4   https://www.pensador.com/poemas/  \n",
       "5   https://www.pensador.com/poemas/  \n",
       "6   https://www.pensador.com/poemas/  \n",
       "7   https://www.pensador.com/poemas/  \n",
       "8   https://www.pensador.com/poemas/  \n",
       "9   https://www.pensador.com/poemas/  \n",
       "10  https://www.pensador.com/poemas/  \n",
       "11  https://www.pensador.com/poemas/  \n",
       "12  https://www.pensador.com/poemas/  \n",
       "13  https://www.pensador.com/poemas/  \n",
       "14  https://www.pensador.com/poemas/  \n",
       "15  https://www.pensador.com/poemas/  \n",
       "16  https://www.pensador.com/poemas/  \n",
       "17  https://www.pensador.com/poemas/  \n",
       "18  https://www.pensador.com/poemas/  \n",
       "19  https://www.pensador.com/poemas/  "
      ]
     },
     "execution_count": 13,
     "metadata": {},
     "output_type": "execute_result"
    }
   ],
   "source": [
    "df = pd.read_csv('../data/authors_poems.csv',index_col=0)\n",
    "df_mod = df.copy() # Dataframe criado para a futuras modificações, para não interferir no dataframe original\n",
    "df_mod.head(20)"
   ]
  },
  {
   "cell_type": "code",
   "execution_count": 14,
   "metadata": {},
   "outputs": [],
   "source": [
    "def remove_titles(poem_list):\n",
    "    if (len(poem_list)>2 and len(poem_list[1])==0): # Tem um título separado\n",
    "        return '\\n'.join(poem_list[2:])\n",
    "    else:\n",
    "        return '\\n'.join(poem_list)"
   ]
  },
  {
   "cell_type": "markdown",
   "metadata": {},
   "source": [
    "### Precisa-se remover os títulos e subtítulos que estão dentro de parenteses, colchetes e chaves "
   ]
  },
  {
   "cell_type": "code",
   "execution_count": 15,
   "metadata": {},
   "outputs": [
    {
     "name": "stderr",
     "output_type": "stream",
     "text": [
      "C:\\Users\\Italo\\AppData\\Local\\Temp/ipykernel_19360/392015758.py:3: FutureWarning: The default value of regex will change from True to False in a future version.\n",
      "  df_mod['Poems'] =  df_mod['Poems'].str.replace(re_exp,'')\n"
     ]
    },
    {
     "data": {
      "text/plain": [
       "0     O poeta é um fingidor.\\nFinge tão completament...\n",
       "1     AUTOPSICOGRAFIA\\n\\nO poeta é um fingidor.\\nFin...\n",
       "2     SIMULTANEIDADE\\n\\n- Eu amo o mundo! Eu detesto...\n",
       "3     Caderno de poesias\\n\\nCaderno de poesias\\né um...\n",
       "4     Ah, quem me dera ser poeta\\nPra cantar em seu ...\n",
       "5     Poesia não dá camisa.\\nMas quando o poeta tem ...\n",
       "6     Os poemas são pássaros que chegam\\nnão se sabe...\n",
       "7     Subnutrido de beleza, meu cachorro-poema vai f...\n",
       "8     Amor é fogo que arde sem se ver;\\nÉ ferida que...\n",
       "9     Quem Sabe um Dia\\n\\nQuem sabe um dia\\nQuem sab...\n",
       "10    O poeta se faz vidente por meio de um longo, i...\n",
       "11    ...Poesia...\\n\\nNós não lemos e escrevemos poe...\n",
       "12    AS ONDA\\n\\nOndas que parecem abraços\\nCaloroso...\n",
       "13    O que eu odeio é que algum dia tudo se reduzir...\n",
       "14    Acredite, pense e faça,\\nuse sua intuição,\\ntr...\n",
       "15    Pode haver um dia\\nem que a poesia\\nmude de en...\n",
       "16    A poesia não nasce das regras, a não ser em pa...\n",
       "17    TRAIÇÃO\\n\\nHoje,\\nque as  memórias se esvaem \\...\n",
       "18    \"O transe poético é o experimento de uma reali...\n",
       "19    Memória\\n\\nAmar o perdido\\ndeixa confundido\\ne...\n",
       "Name: Poems, dtype: object"
      ]
     },
     "execution_count": 15,
     "metadata": {},
     "output_type": "execute_result"
    }
   ],
   "source": [
    "re_exp = '[\\{\\(\\[](.*)[\\}\\)\\]]\\\\n'\n",
    "\n",
    "df_mod['Poems'] =  df_mod['Poems'].str.replace(re_exp,'')\n",
    "df_mod['Poems'].head(20)"
   ]
  },
  {
   "cell_type": "code",
   "execution_count": 16,
   "metadata": {},
   "outputs": [],
   "source": [
    "df_mod['Poems'] =  df_mod['Poems'].apply(lambda st: st.split('\\n')).apply(remove_titles)"
   ]
  },
  {
   "cell_type": "code",
   "execution_count": 17,
   "metadata": {},
   "outputs": [
    {
     "data": {
      "text/plain": [
       "0     O poeta é um fingidor.\\nFinge tão completament...\n",
       "1     O poeta é um fingidor.\\nFinge tão completament...\n",
       "2     - Eu amo o mundo! Eu detesto o mundo! Eu creio...\n",
       "3     Caderno de poesias\\né um belo lugar.\\nTantas c...\n",
       "4     Ah, quem me dera ser poeta\\nPra cantar em seu ...\n",
       "5     Poesia não dá camisa.\\nMas quando o poeta tem ...\n",
       "6     Os poemas são pássaros que chegam\\nnão se sabe...\n",
       "7     Subnutrido de beleza, meu cachorro-poema vai f...\n",
       "8     Amor é fogo que arde sem se ver;\\nÉ ferida que...\n",
       "9     Quem sabe um dia\\nQuem sabe um seremos\\nQuem s...\n",
       "10    O poeta se faz vidente por meio de um longo, i...\n",
       "11    Nós não lemos e escrevemos poesia porque é bon...\n",
       "12    Ondas que parecem abraços\\nCalorosos, afetuoso...\n",
       "13    O que eu odeio é que algum dia tudo se reduzir...\n",
       "14    Acredite, pense e faça,\\nuse sua intuição,\\ntr...\n",
       "15    Pode haver um dia\\nem que a poesia\\nmude de en...\n",
       "16    A poesia não nasce das regras, a não ser em pa...\n",
       "17    Hoje,\\nque as  memórias se esvaem \\ne os amigo...\n",
       "18    \"O transe poético é o experimento de uma reali...\n",
       "19    Amar o perdido\\ndeixa confundido\\neste coração...\n",
       "Name: Poems, dtype: object"
      ]
     },
     "execution_count": 17,
     "metadata": {},
     "output_type": "execute_result"
    }
   ],
   "source": [
    "df_mod['Poems'].head(20)"
   ]
  },
  {
   "cell_type": "code",
   "execution_count": 19,
   "metadata": {},
   "outputs": [],
   "source": [
    "df_mod.to_csv('../data/authors_poems_without_titles.csv')"
   ]
  },
  {
   "cell_type": "code",
   "execution_count": null,
   "metadata": {},
   "outputs": [],
   "source": []
  }
 ],
 "metadata": {
  "interpreter": {
   "hash": "d303e230045a8cc853a1c356324c4fdd2f35dfaf8774beb340a52429b8655d65"
  },
  "kernelspec": {
   "display_name": "Python 3.9.7 64-bit ('PoemGenerator': conda)",
   "name": "python3"
  },
  "language_info": {
   "codemirror_mode": {
    "name": "ipython",
    "version": 3
   },
   "file_extension": ".py",
   "mimetype": "text/x-python",
   "name": "python",
   "nbconvert_exporter": "python",
   "pygments_lexer": "ipython3",
   "version": "3.9.7"
  },
  "orig_nbformat": 4
 },
 "nbformat": 4,
 "nbformat_minor": 2
}
